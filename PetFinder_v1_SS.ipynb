{
 "cells": [
  {
   "cell_type": "code",
   "execution_count": 5,
   "metadata": {},
   "outputs": [],
   "source": [
    "# Load libraries for analysis and visualization\n",
    "import pandas as pd # collection of functions for data processing and analysis modeled after R dataframes with SQL like features\n",
    "import numpy as np  # foundational package for scientific computing\n",
    "import re           # Regular expression operations\n",
    "import matplotlib.pyplot as plt # Collection of functions for scientific and publication-ready visualization\n",
    "from collections import Counter\n",
    "import pickle\n",
    "%matplotlib inline\n",
    "\n",
    "# Machine learning libraries\n",
    "import xgboost as xgb  # Implementation of gradient boosted decision trees designed for speed and performance that is dominative competitive machine learning\n",
    "import seaborn as sns  # Visualization library based on matplotlib, provides interface for drawing attractive statistical graphics\n",
    "import sklearn         # Collection of machine learning algorithms\n",
    "import sklearn.ensemble\n",
    "from sklearn.linear_model import LogisticRegression\n",
    "from sklearn.svm import SVC, LinearSVC\n",
    "from sklearn.ensemble import (RandomForestClassifier, AdaBoostClassifier, \n",
    "                              GradientBoostingClassifier, ExtraTreesClassifier, VotingClassifier)\n",
    "from sklearn.model_selection import KFold\n",
    "from sklearn.model_selection import train_test_split\n",
    "from sklearn.neighbors import KNeighborsClassifier\n",
    "from sklearn.naive_bayes import GaussianNB\n",
    "from sklearn.linear_model import Perceptron\n",
    "from sklearn.linear_model import SGDClassifier\n",
    "from sklearn.tree import DecisionTreeClassifier\n",
    "from sklearn.model_selection import GridSearchCV, cross_val_score, StratifiedKFold, learning_curve\n",
    "from sklearn.preprocessing import StandardScaler\n",
    "from sklearn.model_selection import train_test_split\n",
    "from sklearn.metrics import accuracy_score,classification_report, precision_recall_curve, confusion_matrix\n",
    "\n",
    "import warnings\n",
    "warnings.filterwarnings('ignore')"
   ]
  },
  {
   "cell_type": "code",
   "execution_count": 7,
   "metadata": {},
   "outputs": [],
   "source": [
    "df_train = pd.read_pickle('train_cleaned_df.pk')\n",
    "df_test = pd.read_pickle('test_cleaned_df.pk')\n"
   ]
  },
  {
   "cell_type": "code",
   "execution_count": 8,
   "metadata": {},
   "outputs": [],
   "source": [
    "remove_cols = ['Name','PetID','RescuerID']#,'Type','NameFrequency'"
   ]
  },
  {
   "cell_type": "code",
   "execution_count": 10,
   "metadata": {},
   "outputs": [
    {
     "data": {
      "text/plain": [
       "((14993, 26), (14993,), (3948, 29))"
      ]
     },
     "execution_count": 10,
     "metadata": {},
     "output_type": "execute_result"
    }
   ],
   "source": [
    "SEED = 111\n",
    "\n",
    "X = df_train.drop(remove_cols, axis=1)\n",
    "\n",
    "X = X.drop(['AdoptionSpeed'],axis=1)\n",
    "\n",
    "y = df_train['AdoptionSpeed']\n",
    "\n",
    "X.shape, y.shape, df_test.shape"
   ]
  },
  {
   "cell_type": "code",
   "execution_count": 13,
   "metadata": {},
   "outputs": [],
   "source": [
    "#Copy for holdout test run\n",
    "X_test = df_test.copy()\n",
    "X_test = X_test.drop(remove_cols, axis=1)"
   ]
  },
  {
   "cell_type": "code",
   "execution_count": 14,
   "metadata": {},
   "outputs": [
    {
     "data": {
      "text/html": [
       "<div>\n",
       "<style scoped>\n",
       "    .dataframe tbody tr th:only-of-type {\n",
       "        vertical-align: middle;\n",
       "    }\n",
       "\n",
       "    .dataframe tbody tr th {\n",
       "        vertical-align: top;\n",
       "    }\n",
       "\n",
       "    .dataframe thead th {\n",
       "        text-align: right;\n",
       "    }\n",
       "</style>\n",
       "<table border=\"1\" class=\"dataframe\">\n",
       "  <thead>\n",
       "    <tr style=\"text-align: right;\">\n",
       "      <th></th>\n",
       "      <th>Type</th>\n",
       "      <th>Age</th>\n",
       "      <th>Breed1</th>\n",
       "      <th>Breed2</th>\n",
       "      <th>Gender</th>\n",
       "      <th>Color1</th>\n",
       "      <th>Color2</th>\n",
       "      <th>Color3</th>\n",
       "      <th>MaturitySize</th>\n",
       "      <th>FurLength</th>\n",
       "      <th>...</th>\n",
       "      <th>State</th>\n",
       "      <th>VideoAmt</th>\n",
       "      <th>Description</th>\n",
       "      <th>PhotoAmt</th>\n",
       "      <th>NumColors</th>\n",
       "      <th>IsMixedBreed</th>\n",
       "      <th>NameFrequency</th>\n",
       "      <th>Magnitude</th>\n",
       "      <th>Score</th>\n",
       "      <th>WordCount</th>\n",
       "    </tr>\n",
       "  </thead>\n",
       "  <tbody>\n",
       "    <tr>\n",
       "      <th>0</th>\n",
       "      <td>1</td>\n",
       "      <td>2</td>\n",
       "      <td>307</td>\n",
       "      <td>0</td>\n",
       "      <td>1</td>\n",
       "      <td>1</td>\n",
       "      <td>0</td>\n",
       "      <td>0</td>\n",
       "      <td>2</td>\n",
       "      <td>2</td>\n",
       "      <td>...</td>\n",
       "      <td>41326</td>\n",
       "      <td>0</td>\n",
       "      <td>Puppy is calm for a young dog, but he becomes ...</td>\n",
       "      <td>3.0</td>\n",
       "      <td>1</td>\n",
       "      <td>0</td>\n",
       "      <td>11</td>\n",
       "      <td>0.0</td>\n",
       "      <td>0.0</td>\n",
       "      <td>20</td>\n",
       "    </tr>\n",
       "    <tr>\n",
       "      <th>1</th>\n",
       "      <td>2</td>\n",
       "      <td>24</td>\n",
       "      <td>266</td>\n",
       "      <td>0</td>\n",
       "      <td>1</td>\n",
       "      <td>2</td>\n",
       "      <td>7</td>\n",
       "      <td>0</td>\n",
       "      <td>2</td>\n",
       "      <td>1</td>\n",
       "      <td>...</td>\n",
       "      <td>41326</td>\n",
       "      <td>0</td>\n",
       "      <td>Urgently seeking adoption. Please contact for ...</td>\n",
       "      <td>1.0</td>\n",
       "      <td>2</td>\n",
       "      <td>0</td>\n",
       "      <td>3</td>\n",
       "      <td>0.0</td>\n",
       "      <td>0.0</td>\n",
       "      <td>8</td>\n",
       "    </tr>\n",
       "    <tr>\n",
       "      <th>2</th>\n",
       "      <td>2</td>\n",
       "      <td>20</td>\n",
       "      <td>266</td>\n",
       "      <td>0</td>\n",
       "      <td>2</td>\n",
       "      <td>7</td>\n",
       "      <td>0</td>\n",
       "      <td>0</td>\n",
       "      <td>2</td>\n",
       "      <td>1</td>\n",
       "      <td>...</td>\n",
       "      <td>41326</td>\n",
       "      <td>0</td>\n",
       "      <td>Snowball... doesn't look so good (she is healt...</td>\n",
       "      <td>1.0</td>\n",
       "      <td>1</td>\n",
       "      <td>0</td>\n",
       "      <td>1</td>\n",
       "      <td>0.0</td>\n",
       "      <td>0.0</td>\n",
       "      <td>36</td>\n",
       "    </tr>\n",
       "    <tr>\n",
       "      <th>3</th>\n",
       "      <td>2</td>\n",
       "      <td>5</td>\n",
       "      <td>266</td>\n",
       "      <td>252</td>\n",
       "      <td>2</td>\n",
       "      <td>1</td>\n",
       "      <td>6</td>\n",
       "      <td>7</td>\n",
       "      <td>2</td>\n",
       "      <td>1</td>\n",
       "      <td>...</td>\n",
       "      <td>41326</td>\n",
       "      <td>0</td>\n",
       "      <td>Malibu: Female, Local Mix, 4-5 months, vaccina...</td>\n",
       "      <td>1.0</td>\n",
       "      <td>3</td>\n",
       "      <td>1</td>\n",
       "      <td>1</td>\n",
       "      <td>0.0</td>\n",
       "      <td>0.0</td>\n",
       "      <td>51</td>\n",
       "    </tr>\n",
       "    <tr>\n",
       "      <th>4</th>\n",
       "      <td>1</td>\n",
       "      <td>6</td>\n",
       "      <td>307</td>\n",
       "      <td>0</td>\n",
       "      <td>2</td>\n",
       "      <td>1</td>\n",
       "      <td>2</td>\n",
       "      <td>7</td>\n",
       "      <td>2</td>\n",
       "      <td>1</td>\n",
       "      <td>...</td>\n",
       "      <td>41326</td>\n",
       "      <td>0</td>\n",
       "      <td>LALA! That's my name. I'm a 6 month old girl d...</td>\n",
       "      <td>1.0</td>\n",
       "      <td>3</td>\n",
       "      <td>0</td>\n",
       "      <td>1</td>\n",
       "      <td>0.0</td>\n",
       "      <td>0.0</td>\n",
       "      <td>33</td>\n",
       "    </tr>\n",
       "  </tbody>\n",
       "</table>\n",
       "<p>5 rows × 26 columns</p>\n",
       "</div>"
      ],
      "text/plain": [
       "   Type  Age  Breed1  Breed2  Gender  Color1  Color2  Color3  MaturitySize  \\\n",
       "0     1    2     307       0       1       1       0       0             2   \n",
       "1     2   24     266       0       1       2       7       0             2   \n",
       "2     2   20     266       0       2       7       0       0             2   \n",
       "3     2    5     266     252       2       1       6       7             2   \n",
       "4     1    6     307       0       2       1       2       7             2   \n",
       "\n",
       "   FurLength  ...  State  VideoAmt  \\\n",
       "0          2  ...  41326         0   \n",
       "1          1  ...  41326         0   \n",
       "2          1  ...  41326         0   \n",
       "3          1  ...  41326         0   \n",
       "4          1  ...  41326         0   \n",
       "\n",
       "                                         Description  PhotoAmt  NumColors  \\\n",
       "0  Puppy is calm for a young dog, but he becomes ...       3.0          1   \n",
       "1  Urgently seeking adoption. Please contact for ...       1.0          2   \n",
       "2  Snowball... doesn't look so good (she is healt...       1.0          1   \n",
       "3  Malibu: Female, Local Mix, 4-5 months, vaccina...       1.0          3   \n",
       "4  LALA! That's my name. I'm a 6 month old girl d...       1.0          3   \n",
       "\n",
       "   IsMixedBreed  NameFrequency  Magnitude Score  WordCount  \n",
       "0             0             11        0.0   0.0         20  \n",
       "1             0              3        0.0   0.0          8  \n",
       "2             0              1        0.0   0.0         36  \n",
       "3             1              1        0.0   0.0         51  \n",
       "4             0              1        0.0   0.0         33  \n",
       "\n",
       "[5 rows x 26 columns]"
      ]
     },
     "execution_count": 14,
     "metadata": {},
     "output_type": "execute_result"
    }
   ],
   "source": [
    "X_test.head()"
   ]
  },
  {
   "cell_type": "code",
   "execution_count": 15,
   "metadata": {},
   "outputs": [
    {
     "data": {
      "text/plain": [
       "((14993, 26), (3948, 26))"
      ]
     },
     "execution_count": 15,
     "metadata": {},
     "output_type": "execute_result"
    }
   ],
   "source": [
    "X.shape, X_test.shape"
   ]
  },
  {
   "cell_type": "code",
   "execution_count": 20,
   "metadata": {},
   "outputs": [
    {
     "name": "stdout",
     "output_type": "stream",
     "text": [
      "<class 'pandas.core.frame.DataFrame'>\n",
      "Int64Index: 14993 entries, 0 to 14992\n",
      "Data columns (total 26 columns):\n",
      "Type             14993 non-null int64\n",
      "Age              14993 non-null int64\n",
      "Breed1           14993 non-null int64\n",
      "Breed2           14993 non-null int64\n",
      "Gender           14993 non-null int64\n",
      "Color1           14993 non-null int64\n",
      "Color2           14993 non-null int64\n",
      "Color3           14993 non-null int64\n",
      "MaturitySize     14993 non-null int64\n",
      "FurLength        14993 non-null int64\n",
      "Vaccinated       14993 non-null int64\n",
      "Dewormed         14993 non-null int64\n",
      "Sterilized       14993 non-null int64\n",
      "Health           14993 non-null int64\n",
      "Quantity         14993 non-null int64\n",
      "Fee              14993 non-null int64\n",
      "State            14993 non-null int64\n",
      "VideoAmt         14993 non-null int64\n",
      "Description      14993 non-null object\n",
      "PhotoAmt         14993 non-null float64\n",
      "NumColors        14993 non-null int64\n",
      "IsMixedBreed     14993 non-null int64\n",
      "NameFrequency    14993 non-null int64\n",
      "Magnitude        14993 non-null float64\n",
      "Score            14993 non-null float64\n",
      "WordCount        14993 non-null int64\n",
      "dtypes: float64(3), int64(22), object(1)\n",
      "memory usage: 3.1+ MB\n",
      "------------\n",
      "<class 'pandas.core.frame.DataFrame'>\n",
      "Int64Index: 3948 entries, 0 to 3947\n",
      "Data columns (total 26 columns):\n",
      "Type             3948 non-null int64\n",
      "Age              3948 non-null int64\n",
      "Breed1           3948 non-null int64\n",
      "Breed2           3948 non-null int64\n",
      "Gender           3948 non-null int64\n",
      "Color1           3948 non-null int64\n",
      "Color2           3948 non-null int64\n",
      "Color3           3948 non-null int64\n",
      "MaturitySize     3948 non-null int64\n",
      "FurLength        3948 non-null int64\n",
      "Vaccinated       3948 non-null int64\n",
      "Dewormed         3948 non-null int64\n",
      "Sterilized       3948 non-null int64\n",
      "Health           3948 non-null int64\n",
      "Quantity         3948 non-null int64\n",
      "Fee              3948 non-null int64\n",
      "State            3948 non-null int64\n",
      "VideoAmt         3948 non-null int64\n",
      "Description      3948 non-null object\n",
      "PhotoAmt         3948 non-null float64\n",
      "NumColors        3948 non-null int64\n",
      "IsMixedBreed     3948 non-null int64\n",
      "NameFrequency    3948 non-null int64\n",
      "Magnitude        3948 non-null float64\n",
      "Score            3948 non-null float64\n",
      "WordCount        3948 non-null int64\n",
      "dtypes: float64(3), int64(22), object(1)\n",
      "memory usage: 832.8+ KB\n"
     ]
    }
   ],
   "source": [
    "X.info()\n",
    "print(\"------------\")\n",
    "X_test.info()"
   ]
  },
  {
   "cell_type": "code",
   "execution_count": 21,
   "metadata": {},
   "outputs": [],
   "source": [
    "X = X.drop(\"Description\", axis=1)\n",
    "X_test = X_test.drop(\"Description\", axis=1)"
   ]
  },
  {
   "cell_type": "code",
   "execution_count": 23,
   "metadata": {},
   "outputs": [],
   "source": [
    "petid = df_test['PetID']"
   ]
  },
  {
   "cell_type": "code",
   "execution_count": 24,
   "metadata": {},
   "outputs": [],
   "source": [
    "X_train, x_test, Y_train, y_test = train_test_split(X, y, test_size=0.3, random_state=SEED)"
   ]
  },
  {
   "cell_type": "code",
   "execution_count": 34,
   "metadata": {},
   "outputs": [],
   "source": [
    "# Cross validate model with Kfold stratified cross validation\n",
    "from sklearn.model_selection import StratifiedKFold\n",
    "kfold = StratifiedKFold(n_splits=10)"
   ]
  },
  {
   "cell_type": "code",
   "execution_count": 35,
   "metadata": {},
   "outputs": [
    {
     "name": "stdout",
     "output_type": "stream",
     "text": [
      "Fitting 10 folds for each of 48 candidates, totalling 480 fits\n"
     ]
    },
    {
     "name": "stderr",
     "output_type": "stream",
     "text": [
      "[Parallel(n_jobs=-1)]: Using backend LokyBackend with 8 concurrent workers.\n",
      "[Parallel(n_jobs=-1)]: Done  34 tasks      | elapsed:    5.2s\n",
      "[Parallel(n_jobs=-1)]: Done 184 tasks      | elapsed:   22.0s\n",
      "[Parallel(n_jobs=-1)]: Done 434 tasks      | elapsed:   55.7s\n",
      "[Parallel(n_jobs=-1)]: Done 480 out of 480 | elapsed:  1.1min finished\n"
     ]
    },
    {
     "data": {
      "text/plain": [
       "0.38342067651262507"
      ]
     },
     "execution_count": 35,
     "metadata": {},
     "output_type": "execute_result"
    }
   ],
   "source": [
    "# ExtraTrees \n",
    "ExtC = ExtraTreesClassifier()\n",
    "\n",
    "ex_param_grid = {'max_depth': [6,7,8,9], 'max_features': [7,8,9,10],  \n",
    "              'n_estimators': [50, 100, 200]}\n",
    "\n",
    "gsExtC = GridSearchCV(ExtC,param_grid = ex_param_grid, cv=kfold, scoring=\"accuracy\", n_jobs= -1, verbose = 1)\n",
    "gsExtC.fit(X_train,Y_train)\n",
    "ExtC_best = gsExtC.best_estimator_\n",
    "gsExtC.best_score_"
   ]
  },
  {
   "cell_type": "code",
   "execution_count": 38,
   "metadata": {},
   "outputs": [
    {
     "name": "stdout",
     "output_type": "stream",
     "text": [
      "Fitting 10 folds for each of 100 candidates, totalling 1000 fits\n"
     ]
    },
    {
     "name": "stderr",
     "output_type": "stream",
     "text": [
      "[Parallel(n_jobs=-1)]: Using backend LokyBackend with 8 concurrent workers.\n",
      "[Parallel(n_jobs=-1)]: Done  34 tasks      | elapsed:    2.2s\n",
      "[Parallel(n_jobs=-1)]: Done 318 tasks      | elapsed:    5.5s\n",
      "[Parallel(n_jobs=-1)]: Done 818 tasks      | elapsed:   13.0s\n",
      "[Parallel(n_jobs=-1)]: Done 1000 out of 1000 | elapsed:   16.2s finished\n"
     ]
    },
    {
     "data": {
      "text/plain": [
       "0.39656979514054314"
      ]
     },
     "execution_count": 38,
     "metadata": {},
     "output_type": "execute_result"
    }
   ],
   "source": [
    "# Random Forest\n",
    "random_forest = RandomForestClassifier()\n",
    "\n",
    "rf_param_grid = {'max_depth': [3, 5, 6, 7, 8], 'max_features': [6,7,8,9,10],  \n",
    "              'min_samples_split': [5, 6, 7, 8]}\n",
    "\n",
    "gsrandom_forest = GridSearchCV(random_forest,param_grid = rf_param_grid, cv=kfold, scoring=\"accuracy\", n_jobs= -1, verbose = 1)\n",
    "gsrandom_forest.fit(X_train,Y_train)\n",
    "# Best score\n",
    "random_forest_best = gsrandom_forest.best_estimator_\n",
    "gsrandom_forest.best_score_"
   ]
  },
  {
   "cell_type": "code",
   "execution_count": 39,
   "metadata": {},
   "outputs": [
    {
     "name": "stdout",
     "output_type": "stream",
     "text": [
      "Fitting 10 folds for each of 48 candidates, totalling 480 fits\n"
     ]
    },
    {
     "name": "stderr",
     "output_type": "stream",
     "text": [
      "[Parallel(n_jobs=-1)]: Using backend LokyBackend with 8 concurrent workers.\n",
      "[Parallel(n_jobs=-1)]: Done  34 tasks      | elapsed:   58.1s\n",
      "[Parallel(n_jobs=-1)]: Done 184 tasks      | elapsed:  4.5min\n",
      "[Parallel(n_jobs=-1)]: Done 434 tasks      | elapsed: 10.4min\n",
      "[Parallel(n_jobs=-1)]: Done 480 out of 480 | elapsed: 11.4min finished\n"
     ]
    },
    {
     "data": {
      "text/plain": [
       "0.4081943782753692"
      ]
     },
     "execution_count": 39,
     "metadata": {},
     "output_type": "execute_result"
    }
   ],
   "source": [
    "#XGBoost\n",
    "from xgboost import XGBClassifier\n",
    "xgb = XGBClassifier()\n",
    "param_grid = {'max_depth': [5,6,7,8], 'gamma': [1, 2, 4], 'learning_rate': [0.1, 0.2, 0.3, 0.5]}\n",
    "\n",
    "xgb_grid = GridSearchCV(xgb, param_grid, cv=kfold, refit=True, verbose=1, n_jobs= -1)\n",
    "xgb_grid.fit(X_train,Y_train)\n",
    "\n",
    "# Best score\n",
    "xgb_best = xgb_grid.best_estimator_\n",
    "xgb_grid.best_score_"
   ]
  },
  {
   "cell_type": "code",
   "execution_count": 40,
   "metadata": {},
   "outputs": [
    {
     "name": "stdout",
     "output_type": "stream",
     "text": [
      "Fitting 10 folds for each of 54 candidates, totalling 540 fits\n"
     ]
    },
    {
     "name": "stderr",
     "output_type": "stream",
     "text": [
      "[Parallel(n_jobs=-1)]: Using backend LokyBackend with 8 concurrent workers.\n",
      "[Parallel(n_jobs=-1)]: Done  34 tasks      | elapsed:   49.2s\n",
      "[Parallel(n_jobs=-1)]: Done 184 tasks      | elapsed:  4.9min\n",
      "[Parallel(n_jobs=-1)]: Done 434 tasks      | elapsed: 11.3min\n",
      "[Parallel(n_jobs=-1)]: Done 540 out of 540 | elapsed: 14.2min finished\n"
     ]
    },
    {
     "data": {
      "text/plain": [
       "0.406574559313959"
      ]
     },
     "execution_count": 40,
     "metadata": {},
     "output_type": "execute_result"
    }
   ],
   "source": [
    "#LightGBM\n",
    "import lightgbm as lgb\n",
    "lgbm = lgb.LGBMClassifier(silent=False)\n",
    "param_grid = {\"max_depth\": [8,10,15], \"learning_rate\" : [0.008,0.01,0.012], \n",
    "              \"num_leaves\": [80,100,120], \"n_estimators\": [200,250]  }\n",
    "\n",
    "lgbm_grid = GridSearchCV(lgbm, param_grid, cv=kfold, refit=True, verbose=1, n_jobs= -1)\n",
    "lgbm_grid.fit(X_train,Y_train, verbose=True)\n",
    "\n",
    "# Best score\n",
    "lgbm_best = lgbm_grid.best_estimator_\n",
    "lgbm_grid.best_score_     "
   ]
  },
  {
   "cell_type": "code",
   "execution_count": 41,
   "metadata": {},
   "outputs": [],
   "source": [
    "# Save boosted models\n",
    "pickle.dump(random_forest_best, open(\"Pet_RF.pkl\", 'wb'))\n",
    "pickle.dump(ExtC_best, open(\"Pet_ExtC.pkl\", 'wb'))\n",
    "pickle.dump(xgb_grid, open(\"Pet_XGB.pkl\", 'wb'))\n",
    "pickle.dump(lgbm_grid, open(\"Pet_LGBM.pkl\", 'wb'))"
   ]
  },
  {
   "cell_type": "code",
   "execution_count": 42,
   "metadata": {},
   "outputs": [
    {
     "data": {
      "image/png": "[encoded data removed]",
      "text/plain": [
       "<Figure size 432x288 with 1 Axes>"
      ]
     },
     "metadata": {
      "needs_background": "light"
     },
     "output_type": "display_data"
    },
    {
     "data": {
      "image/png": "[encoded data removed]",
      "text/plain": [
       "<Figure size 432x288 with 1 Axes>"
      ]
     },
     "metadata": {
      "needs_background": "light"
     },
     "output_type": "display_data"
    },
    {
     "data": {
      "image/png": "[encoded data removed]",
      "text/plain": [
       "<Figure size 432x288 with 1 Axes>"
      ]
     },
     "metadata": {
      "needs_background": "light"
     },
     "output_type": "display_data"
    },
    {
     "data": {
      "image/png": "[encoded data removed]",
      "text/plain": [
       "<Figure size 432x288 with 1 Axes>"
      ]
     },
     "metadata": {
      "needs_background": "light"
     },
     "output_type": "display_data"
    }
   ],
   "source": [
    "def plot_learning_curve(estimator, title, X, y, ylim=None, cv=None,\n",
    "        n_jobs=-1, train_sizes=np.linspace(.1, 1.0, 5)):\n",
    "    \"\"\"Generate a simple plot of the test and training learning curve\"\"\"\n",
    "    plt.figure()\n",
    "    plt.title(title)\n",
    "    if ylim is not None:\n",
    "        plt.ylim(*ylim)\n",
    "    plt.xlabel(\"Training examples\")\n",
    "    plt.ylabel(\"Score\")\n",
    "    train_sizes, train_scores, test_scores = learning_curve(\n",
    "        estimator, X, y, cv=cv, n_jobs=n_jobs, train_sizes=train_sizes)\n",
    "    train_scores_mean = np.mean(train_scores, axis=1)\n",
    "    train_scores_std = np.std(train_scores, axis=1)\n",
    "    test_scores_mean = np.mean(test_scores, axis=1)\n",
    "    test_scores_std = np.std(test_scores, axis=1)\n",
    "    plt.grid()\n",
    "\n",
    "    plt.fill_between(train_sizes, train_scores_mean - train_scores_std,\n",
    "                     train_scores_mean + train_scores_std, alpha=0.1,\n",
    "                     color=\"r\")\n",
    "    plt.fill_between(train_sizes, test_scores_mean - test_scores_std,\n",
    "                     test_scores_mean + test_scores_std, alpha=0.1, color=\"g\")\n",
    "    plt.plot(train_sizes, train_scores_mean, 'o-', color=\"r\",\n",
    "             label=\"Training score\")\n",
    "    plt.plot(train_sizes, test_scores_mean, 'o-', color=\"g\",\n",
    "             label=\"Cross-validation score\")\n",
    "    plt.legend(loc=\"best\")\n",
    "    return plt\n",
    "g = plot_learning_curve(gsExtC.best_estimator_,\"ExtC ExtraTrees learning curves\",X_train,Y_train,cv=kfold)\n",
    "g = plot_learning_curve(gsrandom_forest.best_estimator_,\"RandomForest learning curves\",X_train,Y_train,cv=kfold)\n",
    "g = plot_learning_curve(xgb_grid.best_estimator_,\"XGBoost learning curves\",X_train,Y_train,cv=kfold)\n",
    "g = plot_learning_curve(lgbm_grid.best_estimator_,\"LGBM learning curves\",X_train,Y_train,cv=kfold)"
   ]
  },
  {
   "cell_type": "code",
   "execution_count": 43,
   "metadata": {},
   "outputs": [
    {
     "data": {
      "image/png": "[encoded data removed]",
      "text/plain": [
       "<Figure size 432x288 with 2 Axes>"
      ]
     },
     "metadata": {
      "needs_background": "light"
     },
     "output_type": "display_data"
    }
   ],
   "source": [
    "test_Adopted_ExtC = pd.Series(ExtC_best.predict(X_test), name=\"ExtC\")\n",
    "test_Adopted_random_forest = pd.Series(random_forest_best.predict(X_test), name=\"random_forest\")\n",
    "test_Adopted_XG = pd.Series(xgb_grid.predict(X_test), name=\"XGB\")\n",
    "test_Adopted_LGBM = pd.Series(lgbm_grid.predict(X_test), name=\"LGBM\")\n",
    "\n",
    "# Concatenate all classifier results\n",
    "ensemble_results = pd.concat([test_Adopted_ExtC, test_Adopted_random_forest, test_Adopted_XG, test_Adopted_LGBM],axis=1)\n",
    "g= sns.heatmap(ensemble_results.corr(),annot=True)"
   ]
  },
  {
   "cell_type": "code",
   "execution_count": 44,
   "metadata": {},
   "outputs": [],
   "source": [
    "VotingPredictor = VotingClassifier(estimators=[('XGB', xgb_best), ('ExtC',ExtC_best), ('LGBM',lgbm_best), \\\n",
    "                                               ('random_forest', random_forest_best)], voting='soft', n_jobs=4)\n",
    "VotingPredictor = VotingPredictor.fit(X_train, Y_train)"
   ]
  },
  {
   "cell_type": "code",
   "execution_count": 45,
   "metadata": {},
   "outputs": [],
   "source": [
    "pickle.dump(VotingPredictor, open(\"Pet_Voting_Pred_Model.pkl\", 'wb'))"
   ]
  },
  {
   "cell_type": "code",
   "execution_count": 46,
   "metadata": {},
   "outputs": [],
   "source": [
    "VotingPredictor_ld = pickle.load(open(\"Pet_Voting_Pred_Model.pkl\", 'rb'))"
   ]
  },
  {
   "cell_type": "code",
   "execution_count": 47,
   "metadata": {},
   "outputs": [],
   "source": [
    "VotingPredictor_predictions = VotingPredictor_ld.predict(X_test)\n",
    "test_AdoptionSpeed= pd.Series(VotingPredictor_predictions, name=\"AdoptionSpeed\")"
   ]
  },
  {
   "cell_type": "code",
   "execution_count": 48,
   "metadata": {},
   "outputs": [
    {
     "data": {
      "text/html": [
       "<div>\n",
       "<style scoped>\n",
       "    .dataframe tbody tr th:only-of-type {\n",
       "        vertical-align: middle;\n",
       "    }\n",
       "\n",
       "    .dataframe tbody tr th {\n",
       "        vertical-align: top;\n",
       "    }\n",
       "\n",
       "    .dataframe thead th {\n",
       "        text-align: right;\n",
       "    }\n",
       "</style>\n",
       "<table border=\"1\" class=\"dataframe\">\n",
       "  <thead>\n",
       "    <tr style=\"text-align: right;\">\n",
       "      <th></th>\n",
       "      <th>PetID</th>\n",
       "      <th>AdoptionSpeed</th>\n",
       "    </tr>\n",
       "  </thead>\n",
       "  <tbody>\n",
       "    <tr>\n",
       "      <th>0</th>\n",
       "      <td>378fcc4fc</td>\n",
       "      <td>1</td>\n",
       "    </tr>\n",
       "    <tr>\n",
       "      <th>1</th>\n",
       "      <td>73c10e136</td>\n",
       "      <td>4</td>\n",
       "    </tr>\n",
       "    <tr>\n",
       "      <th>2</th>\n",
       "      <td>72000c4c5</td>\n",
       "      <td>4</td>\n",
       "    </tr>\n",
       "    <tr>\n",
       "      <th>3</th>\n",
       "      <td>e147a4b9f</td>\n",
       "      <td>4</td>\n",
       "    </tr>\n",
       "    <tr>\n",
       "      <th>4</th>\n",
       "      <td>43fbba852</td>\n",
       "      <td>4</td>\n",
       "    </tr>\n",
       "    <tr>\n",
       "      <th>5</th>\n",
       "      <td>77a490ec9</td>\n",
       "      <td>4</td>\n",
       "    </tr>\n",
       "    <tr>\n",
       "      <th>6</th>\n",
       "      <td>28c4b1b13</td>\n",
       "      <td>4</td>\n",
       "    </tr>\n",
       "    <tr>\n",
       "      <th>7</th>\n",
       "      <td>d1eada628</td>\n",
       "      <td>4</td>\n",
       "    </tr>\n",
       "    <tr>\n",
       "      <th>8</th>\n",
       "      <td>d134dec34</td>\n",
       "      <td>4</td>\n",
       "    </tr>\n",
       "    <tr>\n",
       "      <th>9</th>\n",
       "      <td>bcd464bb8</td>\n",
       "      <td>1</td>\n",
       "    </tr>\n",
       "  </tbody>\n",
       "</table>\n",
       "</div>"
      ],
      "text/plain": [
       "       PetID  AdoptionSpeed\n",
       "0  378fcc4fc              1\n",
       "1  73c10e136              4\n",
       "2  72000c4c5              4\n",
       "3  e147a4b9f              4\n",
       "4  43fbba852              4\n",
       "5  77a490ec9              4\n",
       "6  28c4b1b13              4\n",
       "7  d1eada628              4\n",
       "8  d134dec34              4\n",
       "9  bcd464bb8              1"
      ]
     },
     "execution_count": 48,
     "metadata": {},
     "output_type": "execute_result"
    }
   ],
   "source": [
    "# Preparing data for Submission\n",
    "Submission = pd.concat([petid,test_AdoptionSpeed],axis=1)\n",
    "Submission.head(10)"
   ]
  },
  {
   "cell_type": "code",
   "execution_count": 50,
   "metadata": {},
   "outputs": [
    {
     "name": "stdout",
     "output_type": "stream",
     "text": [
      "Completed.\n"
     ]
    }
   ],
   "source": [
    "Submission.to_csv(\"sample_submission.csv\", index=False)\n",
    "print(\"Completed.\")"
   ]
  },
  {
   "cell_type": "code",
   "execution_count": 55,
   "metadata": {},
   "outputs": [],
   "source": [
    "ss = pd.read_csv(\"sample_submission.csv\")"
   ]
  },
  {
   "cell_type": "code",
   "execution_count": 56,
   "metadata": {},
   "outputs": [
    {
     "data": {
      "text/html": [
       "<div>\n",
       "<style scoped>\n",
       "    .dataframe tbody tr th:only-of-type {\n",
       "        vertical-align: middle;\n",
       "    }\n",
       "\n",
       "    .dataframe tbody tr th {\n",
       "        vertical-align: top;\n",
       "    }\n",
       "\n",
       "    .dataframe thead th {\n",
       "        text-align: right;\n",
       "    }\n",
       "</style>\n",
       "<table border=\"1\" class=\"dataframe\">\n",
       "  <thead>\n",
       "    <tr style=\"text-align: right;\">\n",
       "      <th></th>\n",
       "      <th>PetID</th>\n",
       "      <th>AdoptionSpeed</th>\n",
       "    </tr>\n",
       "  </thead>\n",
       "  <tbody>\n",
       "    <tr>\n",
       "      <th>0</th>\n",
       "      <td>378fcc4fc</td>\n",
       "      <td>1</td>\n",
       "    </tr>\n",
       "    <tr>\n",
       "      <th>1</th>\n",
       "      <td>73c10e136</td>\n",
       "      <td>4</td>\n",
       "    </tr>\n",
       "    <tr>\n",
       "      <th>2</th>\n",
       "      <td>72000c4c5</td>\n",
       "      <td>4</td>\n",
       "    </tr>\n",
       "    <tr>\n",
       "      <th>3</th>\n",
       "      <td>e147a4b9f</td>\n",
       "      <td>4</td>\n",
       "    </tr>\n",
       "    <tr>\n",
       "      <th>4</th>\n",
       "      <td>43fbba852</td>\n",
       "      <td>4</td>\n",
       "    </tr>\n",
       "    <tr>\n",
       "      <th>5</th>\n",
       "      <td>77a490ec9</td>\n",
       "      <td>4</td>\n",
       "    </tr>\n",
       "    <tr>\n",
       "      <th>6</th>\n",
       "      <td>28c4b1b13</td>\n",
       "      <td>4</td>\n",
       "    </tr>\n",
       "    <tr>\n",
       "      <th>7</th>\n",
       "      <td>d1eada628</td>\n",
       "      <td>4</td>\n",
       "    </tr>\n",
       "    <tr>\n",
       "      <th>8</th>\n",
       "      <td>d134dec34</td>\n",
       "      <td>4</td>\n",
       "    </tr>\n",
       "    <tr>\n",
       "      <th>9</th>\n",
       "      <td>bcd464bb8</td>\n",
       "      <td>1</td>\n",
       "    </tr>\n",
       "    <tr>\n",
       "      <th>10</th>\n",
       "      <td>4e21958c3</td>\n",
       "      <td>4</td>\n",
       "    </tr>\n",
       "    <tr>\n",
       "      <th>11</th>\n",
       "      <td>7b070aed6</td>\n",
       "      <td>4</td>\n",
       "    </tr>\n",
       "    <tr>\n",
       "      <th>12</th>\n",
       "      <td>ff8d0708f</td>\n",
       "      <td>4</td>\n",
       "    </tr>\n",
       "    <tr>\n",
       "      <th>13</th>\n",
       "      <td>f1e6c9bf3</td>\n",
       "      <td>3</td>\n",
       "    </tr>\n",
       "    <tr>\n",
       "      <th>14</th>\n",
       "      <td>248914c05</td>\n",
       "      <td>4</td>\n",
       "    </tr>\n",
       "    <tr>\n",
       "      <th>15</th>\n",
       "      <td>948002885</td>\n",
       "      <td>4</td>\n",
       "    </tr>\n",
       "    <tr>\n",
       "      <th>16</th>\n",
       "      <td>111e67cd2</td>\n",
       "      <td>2</td>\n",
       "    </tr>\n",
       "    <tr>\n",
       "      <th>17</th>\n",
       "      <td>4f4b2ede1</td>\n",
       "      <td>4</td>\n",
       "    </tr>\n",
       "    <tr>\n",
       "      <th>18</th>\n",
       "      <td>d77fca061</td>\n",
       "      <td>4</td>\n",
       "    </tr>\n",
       "    <tr>\n",
       "      <th>19</th>\n",
       "      <td>ac9fb74b9</td>\n",
       "      <td>4</td>\n",
       "    </tr>\n",
       "    <tr>\n",
       "      <th>20</th>\n",
       "      <td>47ef39e7a</td>\n",
       "      <td>3</td>\n",
       "    </tr>\n",
       "    <tr>\n",
       "      <th>21</th>\n",
       "      <td>c69ee9807</td>\n",
       "      <td>3</td>\n",
       "    </tr>\n",
       "    <tr>\n",
       "      <th>22</th>\n",
       "      <td>62dcf8ecb</td>\n",
       "      <td>3</td>\n",
       "    </tr>\n",
       "    <tr>\n",
       "      <th>23</th>\n",
       "      <td>4df1d19d6</td>\n",
       "      <td>4</td>\n",
       "    </tr>\n",
       "    <tr>\n",
       "      <th>24</th>\n",
       "      <td>e8ef8455e</td>\n",
       "      <td>4</td>\n",
       "    </tr>\n",
       "    <tr>\n",
       "      <th>25</th>\n",
       "      <td>cbd23bc17</td>\n",
       "      <td>2</td>\n",
       "    </tr>\n",
       "    <tr>\n",
       "      <th>26</th>\n",
       "      <td>4d1a91ccf</td>\n",
       "      <td>2</td>\n",
       "    </tr>\n",
       "    <tr>\n",
       "      <th>27</th>\n",
       "      <td>004ee5cf7</td>\n",
       "      <td>4</td>\n",
       "    </tr>\n",
       "    <tr>\n",
       "      <th>28</th>\n",
       "      <td>95fad0a75</td>\n",
       "      <td>4</td>\n",
       "    </tr>\n",
       "    <tr>\n",
       "      <th>29</th>\n",
       "      <td>64341b5db</td>\n",
       "      <td>4</td>\n",
       "    </tr>\n",
       "    <tr>\n",
       "      <th>...</th>\n",
       "      <td>...</td>\n",
       "      <td>...</td>\n",
       "    </tr>\n",
       "    <tr>\n",
       "      <th>3918</th>\n",
       "      <td>4586798a6</td>\n",
       "      <td>1</td>\n",
       "    </tr>\n",
       "    <tr>\n",
       "      <th>3919</th>\n",
       "      <td>e5ec7709d</td>\n",
       "      <td>2</td>\n",
       "    </tr>\n",
       "    <tr>\n",
       "      <th>3920</th>\n",
       "      <td>fa0b958ae</td>\n",
       "      <td>4</td>\n",
       "    </tr>\n",
       "    <tr>\n",
       "      <th>3921</th>\n",
       "      <td>85fda19ab</td>\n",
       "      <td>4</td>\n",
       "    </tr>\n",
       "    <tr>\n",
       "      <th>3922</th>\n",
       "      <td>d6a2fa83e</td>\n",
       "      <td>4</td>\n",
       "    </tr>\n",
       "    <tr>\n",
       "      <th>3923</th>\n",
       "      <td>08f25f7da</td>\n",
       "      <td>1</td>\n",
       "    </tr>\n",
       "    <tr>\n",
       "      <th>3924</th>\n",
       "      <td>a159e317f</td>\n",
       "      <td>2</td>\n",
       "    </tr>\n",
       "    <tr>\n",
       "      <th>3925</th>\n",
       "      <td>09582e51b</td>\n",
       "      <td>3</td>\n",
       "    </tr>\n",
       "    <tr>\n",
       "      <th>3926</th>\n",
       "      <td>0c9cc3c3d</td>\n",
       "      <td>2</td>\n",
       "    </tr>\n",
       "    <tr>\n",
       "      <th>3927</th>\n",
       "      <td>fd6a10dd8</td>\n",
       "      <td>1</td>\n",
       "    </tr>\n",
       "    <tr>\n",
       "      <th>3928</th>\n",
       "      <td>3b22e5249</td>\n",
       "      <td>4</td>\n",
       "    </tr>\n",
       "    <tr>\n",
       "      <th>3929</th>\n",
       "      <td>62abaa505</td>\n",
       "      <td>4</td>\n",
       "    </tr>\n",
       "    <tr>\n",
       "      <th>3930</th>\n",
       "      <td>d274a7103</td>\n",
       "      <td>4</td>\n",
       "    </tr>\n",
       "    <tr>\n",
       "      <th>3931</th>\n",
       "      <td>4f244a307</td>\n",
       "      <td>2</td>\n",
       "    </tr>\n",
       "    <tr>\n",
       "      <th>3932</th>\n",
       "      <td>34e4c214d</td>\n",
       "      <td>4</td>\n",
       "    </tr>\n",
       "    <tr>\n",
       "      <th>3933</th>\n",
       "      <td>67b8ae43b</td>\n",
       "      <td>2</td>\n",
       "    </tr>\n",
       "    <tr>\n",
       "      <th>3934</th>\n",
       "      <td>285a40127</td>\n",
       "      <td>1</td>\n",
       "    </tr>\n",
       "    <tr>\n",
       "      <th>3935</th>\n",
       "      <td>ce637df13</td>\n",
       "      <td>4</td>\n",
       "    </tr>\n",
       "    <tr>\n",
       "      <th>3936</th>\n",
       "      <td>e07d8debe</td>\n",
       "      <td>4</td>\n",
       "    </tr>\n",
       "    <tr>\n",
       "      <th>3937</th>\n",
       "      <td>5c23692a4</td>\n",
       "      <td>4</td>\n",
       "    </tr>\n",
       "    <tr>\n",
       "      <th>3938</th>\n",
       "      <td>4dc690fca</td>\n",
       "      <td>3</td>\n",
       "    </tr>\n",
       "    <tr>\n",
       "      <th>3939</th>\n",
       "      <td>40739eff7</td>\n",
       "      <td>4</td>\n",
       "    </tr>\n",
       "    <tr>\n",
       "      <th>3940</th>\n",
       "      <td>e90b93c02</td>\n",
       "      <td>1</td>\n",
       "    </tr>\n",
       "    <tr>\n",
       "      <th>3941</th>\n",
       "      <td>0a4831022</td>\n",
       "      <td>4</td>\n",
       "    </tr>\n",
       "    <tr>\n",
       "      <th>3942</th>\n",
       "      <td>d24a644d5</td>\n",
       "      <td>4</td>\n",
       "    </tr>\n",
       "    <tr>\n",
       "      <th>3943</th>\n",
       "      <td>6bde0667b</td>\n",
       "      <td>2</td>\n",
       "    </tr>\n",
       "    <tr>\n",
       "      <th>3944</th>\n",
       "      <td>e25b59349</td>\n",
       "      <td>4</td>\n",
       "    </tr>\n",
       "    <tr>\n",
       "      <th>3945</th>\n",
       "      <td>10bc6fc6a</td>\n",
       "      <td>1</td>\n",
       "    </tr>\n",
       "    <tr>\n",
       "      <th>3946</th>\n",
       "      <td>2d7a91c59</td>\n",
       "      <td>2</td>\n",
       "    </tr>\n",
       "    <tr>\n",
       "      <th>3947</th>\n",
       "      <td>e5bbe3e54</td>\n",
       "      <td>4</td>\n",
       "    </tr>\n",
       "  </tbody>\n",
       "</table>\n",
       "<p>3948 rows × 2 columns</p>\n",
       "</div>"
      ],
      "text/plain": [
       "          PetID  AdoptionSpeed\n",
       "0     378fcc4fc              1\n",
       "1     73c10e136              4\n",
       "2     72000c4c5              4\n",
       "3     e147a4b9f              4\n",
       "4     43fbba852              4\n",
       "5     77a490ec9              4\n",
       "6     28c4b1b13              4\n",
       "7     d1eada628              4\n",
       "8     d134dec34              4\n",
       "9     bcd464bb8              1\n",
       "10    4e21958c3              4\n",
       "11    7b070aed6              4\n",
       "12    ff8d0708f              4\n",
       "13    f1e6c9bf3              3\n",
       "14    248914c05              4\n",
       "15    948002885              4\n",
       "16    111e67cd2              2\n",
       "17    4f4b2ede1              4\n",
       "18    d77fca061              4\n",
       "19    ac9fb74b9              4\n",
       "20    47ef39e7a              3\n",
       "21    c69ee9807              3\n",
       "22    62dcf8ecb              3\n",
       "23    4df1d19d6              4\n",
       "24    e8ef8455e              4\n",
       "25    cbd23bc17              2\n",
       "26    4d1a91ccf              2\n",
       "27    004ee5cf7              4\n",
       "28    95fad0a75              4\n",
       "29    64341b5db              4\n",
       "...         ...            ...\n",
       "3918  4586798a6              1\n",
       "3919  e5ec7709d              2\n",
       "3920  fa0b958ae              4\n",
       "3921  85fda19ab              4\n",
       "3922  d6a2fa83e              4\n",
       "3923  08f25f7da              1\n",
       "3924  a159e317f              2\n",
       "3925  09582e51b              3\n",
       "3926  0c9cc3c3d              2\n",
       "3927  fd6a10dd8              1\n",
       "3928  3b22e5249              4\n",
       "3929  62abaa505              4\n",
       "3930  d274a7103              4\n",
       "3931  4f244a307              2\n",
       "3932  34e4c214d              4\n",
       "3933  67b8ae43b              2\n",
       "3934  285a40127              1\n",
       "3935  ce637df13              4\n",
       "3936  e07d8debe              4\n",
       "3937  5c23692a4              4\n",
       "3938  4dc690fca              3\n",
       "3939  40739eff7              4\n",
       "3940  e90b93c02              1\n",
       "3941  0a4831022              4\n",
       "3942  d24a644d5              4\n",
       "3943  6bde0667b              2\n",
       "3944  e25b59349              4\n",
       "3945  10bc6fc6a              1\n",
       "3946  2d7a91c59              2\n",
       "3947  e5bbe3e54              4\n",
       "\n",
       "[3948 rows x 2 columns]"
      ]
     },
     "execution_count": 56,
     "metadata": {},
     "output_type": "execute_result"
    }
   ],
   "source": [
    "ss"
   ]
  },
  {
   "cell_type": "code",
   "execution_count": 53,
   "metadata": {},
   "outputs": [],
   "source": [
    "ss.to_csv(\"sample_submission.csv\", index=False)"
   ]
  }
 ],
 "metadata": {
  "kernelspec": {
   "display_name": "Python 3",
   "language": "python",
   "name": "python3"
  },
  "language_info": {
   "codemirror_mode": {
    "name": "ipython",
    "version": 3
   },
   "file_extension": ".py",
   "mimetype": "text/x-python",
   "name": "python",
   "nbconvert_exporter": "python",
   "pygments_lexer": "ipython3",
   "version": "3.6.8"
  }
 },
 "nbformat": 4,
 "nbformat_minor": 2
}
