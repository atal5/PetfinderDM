{
 "cells": [
  {
   "cell_type": "markdown",
   "metadata": {
    "slideshow": {
     "slide_type": "slide"
    }
   },
   "source": [
    "### Importing Dependencies"
   ]
  },
  {
   "cell_type": "code",
   "execution_count": 1,
   "metadata": {
    "slideshow": {
     "slide_type": "subslide"
    }
   },
   "outputs": [],
   "source": [
    "import numpy as np\n",
    "import pandas as pd \n",
    "import matplotlib.pyplot as plt\n",
    "import seaborn as sns\n",
    "import warnings\n",
    "warnings.filterwarnings('ignore')"
   ]
  },
  {
   "cell_type": "code",
   "execution_count": 2,
   "metadata": {
    "slideshow": {
     "slide_type": "fragment"
    }
   },
   "outputs": [
    {
     "name": "stdout",
     "output_type": "stream",
     "text": [
      "\u001b[31mbreed_labels.csv\u001b[m\u001b[m \u001b[34mtest\u001b[m\u001b[m             \u001b[34mtest_sentiment\u001b[m\u001b[m   \u001b[34mtrain_metadata\u001b[m\u001b[m\r\n",
      "\u001b[31mcolor_labels.csv\u001b[m\u001b[m \u001b[34mtest_images\u001b[m\u001b[m      train.csv        \u001b[34mtrain_sentiment\u001b[m\u001b[m\r\n",
      "\u001b[31mstate_labels.csv\u001b[m\u001b[m \u001b[34mtest_metadata\u001b[m\u001b[m    \u001b[34mtrain_images\u001b[m\u001b[m\r\n"
     ]
    }
   ],
   "source": [
    "data_path = \"/Users/raghavatal/Developer/Data/Petfinder_DataMiningProject/petfinder-adoption-prediction\"\n",
    "!ls $data_path"
   ]
  },
  {
   "cell_type": "markdown",
   "metadata": {
    "slideshow": {
     "slide_type": "slide"
    }
   },
   "source": [
    "### Reading train.csv"
   ]
  },
  {
   "cell_type": "code",
   "execution_count": 3,
   "metadata": {
    "slideshow": {
     "slide_type": "subslide"
    }
   },
   "outputs": [
    {
     "data": {
      "text/plain": [
       "(14993, 24)"
      ]
     },
     "execution_count": 3,
     "metadata": {},
     "output_type": "execute_result"
    }
   ],
   "source": [
    "train_df = pd.read_csv(data_path+'/train.csv')\n",
    "train_df.shape"
   ]
  },
  {
   "cell_type": "code",
   "execution_count": 4,
   "metadata": {},
   "outputs": [
    {
     "data": {
      "text/html": [
       "<div>\n",
       "<style scoped>\n",
       "    .dataframe tbody tr th:only-of-type {\n",
       "        vertical-align: middle;\n",
       "    }\n",
       "\n",
       "    .dataframe tbody tr th {\n",
       "        vertical-align: top;\n",
       "    }\n",
       "\n",
       "    .dataframe thead th {\n",
       "        text-align: right;\n",
       "    }\n",
       "</style>\n",
       "<table border=\"1\" class=\"dataframe\">\n",
       "  <thead>\n",
       "    <tr style=\"text-align: right;\">\n",
       "      <th></th>\n",
       "      <th>Type</th>\n",
       "      <th>Name</th>\n",
       "      <th>Age</th>\n",
       "      <th>Breed1</th>\n",
       "      <th>Breed2</th>\n",
       "      <th>Gender</th>\n",
       "      <th>Color1</th>\n",
       "      <th>Color2</th>\n",
       "      <th>Color3</th>\n",
       "      <th>MaturitySize</th>\n",
       "      <th>FurLength</th>\n",
       "      <th>Vaccinated</th>\n",
       "      <th>Dewormed</th>\n",
       "      <th>Sterilized</th>\n",
       "      <th>Health</th>\n",
       "      <th>Quantity</th>\n",
       "      <th>Fee</th>\n",
       "      <th>State</th>\n",
       "      <th>RescuerID</th>\n",
       "      <th>VideoAmt</th>\n",
       "      <th>Description</th>\n",
       "      <th>PetID</th>\n",
       "      <th>PhotoAmt</th>\n",
       "      <th>AdoptionSpeed</th>\n",
       "    </tr>\n",
       "  </thead>\n",
       "  <tbody>\n",
       "    <tr>\n",
       "      <th>0</th>\n",
       "      <td>2</td>\n",
       "      <td>Nibble</td>\n",
       "      <td>3</td>\n",
       "      <td>299</td>\n",
       "      <td>0</td>\n",
       "      <td>1</td>\n",
       "      <td>1</td>\n",
       "      <td>7</td>\n",
       "      <td>0</td>\n",
       "      <td>1</td>\n",
       "      <td>1</td>\n",
       "      <td>2</td>\n",
       "      <td>2</td>\n",
       "      <td>2</td>\n",
       "      <td>1</td>\n",
       "      <td>1</td>\n",
       "      <td>100</td>\n",
       "      <td>41326</td>\n",
       "      <td>8480853f516546f6cf33aa88cd76c379</td>\n",
       "      <td>0</td>\n",
       "      <td>Nibble is a 3+ month old ball of cuteness. He ...</td>\n",
       "      <td>86e1089a3</td>\n",
       "      <td>1.0</td>\n",
       "      <td>2</td>\n",
       "    </tr>\n",
       "    <tr>\n",
       "      <th>1</th>\n",
       "      <td>2</td>\n",
       "      <td>No Name Yet</td>\n",
       "      <td>1</td>\n",
       "      <td>265</td>\n",
       "      <td>0</td>\n",
       "      <td>1</td>\n",
       "      <td>1</td>\n",
       "      <td>2</td>\n",
       "      <td>0</td>\n",
       "      <td>2</td>\n",
       "      <td>2</td>\n",
       "      <td>3</td>\n",
       "      <td>3</td>\n",
       "      <td>3</td>\n",
       "      <td>1</td>\n",
       "      <td>1</td>\n",
       "      <td>0</td>\n",
       "      <td>41401</td>\n",
       "      <td>3082c7125d8fb66f7dd4bff4192c8b14</td>\n",
       "      <td>0</td>\n",
       "      <td>I just found it alone yesterday near my apartm...</td>\n",
       "      <td>6296e909a</td>\n",
       "      <td>2.0</td>\n",
       "      <td>0</td>\n",
       "    </tr>\n",
       "  </tbody>\n",
       "</table>\n",
       "</div>"
      ],
      "text/plain": [
       "   Type         Name  Age  Breed1  Breed2  Gender  Color1  Color2  Color3  \\\n",
       "0     2       Nibble    3     299       0       1       1       7       0   \n",
       "1     2  No Name Yet    1     265       0       1       1       2       0   \n",
       "\n",
       "   MaturitySize  FurLength  Vaccinated  Dewormed  Sterilized  Health  \\\n",
       "0             1          1           2         2           2       1   \n",
       "1             2          2           3         3           3       1   \n",
       "\n",
       "   Quantity  Fee  State                         RescuerID  VideoAmt  \\\n",
       "0         1  100  41326  8480853f516546f6cf33aa88cd76c379         0   \n",
       "1         1    0  41401  3082c7125d8fb66f7dd4bff4192c8b14         0   \n",
       "\n",
       "                                         Description      PetID  PhotoAmt  \\\n",
       "0  Nibble is a 3+ month old ball of cuteness. He ...  86e1089a3       1.0   \n",
       "1  I just found it alone yesterday near my apartm...  6296e909a       2.0   \n",
       "\n",
       "   AdoptionSpeed  \n",
       "0              2  \n",
       "1              0  "
      ]
     },
     "execution_count": 4,
     "metadata": {},
     "output_type": "execute_result"
    }
   ],
   "source": [
    "#showing two rows from the train.csv\n",
    "pd.set_option('display.max_columns', 500)\n",
    "train_df.head(2)"
   ]
  },
  {
   "cell_type": "code",
   "execution_count": 5,
   "metadata": {},
   "outputs": [
    {
     "name": "stdout",
     "output_type": "stream",
     "text": [
      "<class 'pandas.core.frame.DataFrame'>\n",
      "RangeIndex: 14993 entries, 0 to 14992\n",
      "Data columns (total 24 columns):\n",
      "Type             14993 non-null int64\n",
      "Name             13736 non-null object\n",
      "Age              14993 non-null int64\n",
      "Breed1           14993 non-null int64\n",
      "Breed2           14993 non-null int64\n",
      "Gender           14993 non-null int64\n",
      "Color1           14993 non-null int64\n",
      "Color2           14993 non-null int64\n",
      "Color3           14993 non-null int64\n",
      "MaturitySize     14993 non-null int64\n",
      "FurLength        14993 non-null int64\n",
      "Vaccinated       14993 non-null int64\n",
      "Dewormed         14993 non-null int64\n",
      "Sterilized       14993 non-null int64\n",
      "Health           14993 non-null int64\n",
      "Quantity         14993 non-null int64\n",
      "Fee              14993 non-null int64\n",
      "State            14993 non-null int64\n",
      "RescuerID        14993 non-null object\n",
      "VideoAmt         14993 non-null int64\n",
      "Description      14981 non-null object\n",
      "PetID            14993 non-null object\n",
      "PhotoAmt         14993 non-null float64\n",
      "AdoptionSpeed    14993 non-null int64\n",
      "dtypes: float64(1), int64(19), object(4)\n",
      "memory usage: 2.7+ MB\n"
     ]
    }
   ],
   "source": [
    "train_df.info()"
   ]
  },
  {
   "cell_type": "markdown",
   "metadata": {},
   "source": [
    "### Observation 1\n",
    "\n",
    "Train.csv has two columns (Name and Description) which have missing values. What can we do to fill in the blanks. \n",
    "\n",
    "Q - Can we drop the name column? can a certain name impacts the speed of adoption?\n",
    "\n",
    "Q - Can we fill in the name column with the most common dog name?\n",
    "\n",
    "Q - How do we fill the missing descriptions?"
   ]
  },
  {
   "cell_type": "markdown",
   "metadata": {},
   "source": [
    "### Finding out unique dog names and their count to get the most used dog name"
   ]
  },
  {
   "cell_type": "markdown",
   "metadata": {},
   "source": [
    "#### Top 10 most used Dog Names"
   ]
  },
  {
   "cell_type": "code",
   "execution_count": 6,
   "metadata": {},
   "outputs": [
    {
     "data": {
      "text/plain": [
       "Baby       66\n",
       "Lucky      64\n",
       "No Name    54\n",
       "Brownie    54\n",
       "Mimi       52\n",
       "Blackie    49\n",
       "Puppy      45\n",
       "Kittens    39\n",
       "Max        39\n",
       "Kitty      39\n",
       "Name: Name, dtype: int64"
      ]
     },
     "execution_count": 6,
     "metadata": {},
     "output_type": "execute_result"
    }
   ],
   "source": [
    "dog_names = train_df['Name']\n",
    "\n",
    "dog_names.value_counts().head(10)"
   ]
  },
  {
   "cell_type": "markdown",
   "metadata": {},
   "source": [
    "#### Finding out the names of top 10 adopted dogs"
   ]
  },
  {
   "cell_type": "code",
   "execution_count": 7,
   "metadata": {},
   "outputs": [
    {
     "data": {
      "text/plain": [
       "Baby       64\n",
       "Lucky      59\n",
       "Brownie    53\n",
       "No Name    51\n",
       "Mimi       49\n",
       "Blackie    48\n",
       "Puppy      44\n",
       "Max        39\n",
       "Kittens    39\n",
       "Kitty      38\n",
       "Name: Name, dtype: int64"
      ]
     },
     "execution_count": 7,
     "metadata": {},
     "output_type": "execute_result"
    }
   ],
   "source": [
    "dog_names = train_df.loc[train_df['AdoptionSpeed'] !=0,'Name']\n",
    "dog_names.value_counts().head(10)"
   ]
  },
  {
   "cell_type": "markdown",
   "metadata": {},
   "source": [
    "#### Q - There is also a value as \"No Name\" in the data. Shall we put this in the missing values?"
   ]
  },
  {
   "cell_type": "markdown",
   "metadata": {},
   "source": [
    "### Analysis of Adoption Speed variable"
   ]
  },
  {
   "cell_type": "markdown",
   "metadata": {},
   "source": [
    "#### Showing count plot of the Adoption Speed in Training Data"
   ]
  },
  {
   "cell_type": "code",
   "execution_count": 8,
   "metadata": {},
   "outputs": [
    {
     "data": {
      "image/png": "[encoded data removed]",
      "text/plain": [
       "<Figure size 720x432 with 1 Axes>"
      ]
     },
     "metadata": {
      "needs_background": "light"
     },
     "output_type": "display_data"
    }
   ],
   "source": [
    "adoption_speed = train_df['AdoptionSpeed']\n",
    "plt.figure(figsize=(10,6))\n",
    "sns.countplot(adoption_speed);"
   ]
  },
  {
   "cell_type": "markdown",
   "metadata": {},
   "source": [
    "#### Calculating the percentage for each adoption speed in Training data"
   ]
  },
  {
   "cell_type": "code",
   "execution_count": 11,
   "metadata": {},
   "outputs": [],
   "source": [
    "as_descrp_dict = {0:'Adopted on the same day as it was listed.', \n",
    "                1:'Adopted between 1 and 7 days (1st week) after being listed.' ,\n",
    "                2:'Adopted between 8 and 30 days (1st month) after being listed.',\n",
    "                3:'Adopted between 31 and 90 days (2nd & 3rd month) after being listed.',\n",
    "                4:'No adoption after 100 days of listing. (No pets that waited between 90 and 100 days).'\n",
    "                 }"
   ]
  },
  {
   "cell_type": "code",
   "execution_count": 12,
   "metadata": {},
   "outputs": [],
   "source": [
    "def getValueCountsForFeature(df,col):\n",
    "    value_counts = df[col].value_counts()\n",
    "    return value_counts\n",
    "\n",
    "def getPercentCountForFeatureValue(df,col):\n",
    "    value_counts = getValueCountsForFeature(df,col)\n",
    "    total = np.sum(value_counts)\n",
    "    result = (value_counts*100)/total\n",
    "    return result"
   ]
  },
  {
   "cell_type": "code",
   "execution_count": 13,
   "metadata": {},
   "outputs": [
    {
     "name": "stdout",
     "output_type": "stream",
     "text": [
      "27.99% pets got No adoption after 100 days of listing. (No pets that waited between 90 and 100 days). \n",
      "26.93% pets got Adopted between 8 and 30 days (1st month) after being listed. \n",
      "21.74% pets got Adopted between 31 and 90 days (2nd & 3rd month) after being listed. \n",
      "20.61% pets got Adopted between 1 and 7 days (1st week) after being listed. \n",
      "2.73% pets got Adopted on the same day as it was listed. \n"
     ]
    }
   ],
   "source": [
    "result = getPercentCountForFeatureValue(train_df,'AdoptionSpeed')\n",
    "for idx in result.index:\n",
    "    print('{}% pets got {} '.format(np.round(result[idx],2), as_descrp_dict[idx]))"
   ]
  },
  {
   "cell_type": "markdown",
   "metadata": {},
   "source": [
    "#### Pie Chart of Adoption Speed in Training data"
   ]
  },
  {
   "cell_type": "code",
   "execution_count": 39,
   "metadata": {},
   "outputs": [
    {
     "data": {
      "image/png": "[encoded data removed]",
      "text/plain": [
       "<Figure size 576x576 with 1 Axes>"
      ]
     },
     "metadata": {},
     "output_type": "display_data"
    }
   ],
   "source": [
    "value_counts = getPercentCountForFeatureValue(train_df,'AdoptionSpeed')\n",
    "labels=['No Adoption after 100 days','Between 8 & 30 days','Between 31 & 90 days','Between 1 & 7 days','On the same day']\n",
    "plt.figure(figsize=(8,8))\n",
    "plt.pie(value_counts,explode=[0.0]*4 + [0.3],labels=labels,autopct='%1.1f%%');"
   ]
  },
  {
   "cell_type": "markdown",
   "metadata": {},
   "source": [
    "### Analyzing Features of pets adopted with speed 0 (highest speed)"
   ]
  },
  {
   "cell_type": "code",
   "execution_count": 165,
   "metadata": {},
   "outputs": [
    {
     "data": {
      "text/plain": [
       "(410, 24)"
      ]
     },
     "execution_count": 165,
     "metadata": {},
     "output_type": "execute_result"
    }
   ],
   "source": [
    "pets_as_zero = train_df.loc[train_df['AdoptionSpeed']==0,:]\n",
    "pets_as_zero.shape"
   ]
  },
  {
   "cell_type": "markdown",
   "metadata": {},
   "source": [
    "#### Type"
   ]
  },
  {
   "cell_type": "code",
   "execution_count": 166,
   "metadata": {},
   "outputs": [],
   "source": [
    "type_desc_dict = {1:'Dog',2:'Cat'}\n",
    "pets_as_zero['Type'] = pets_as_zero['Type'].map(type_desc_dict)"
   ]
  },
  {
   "cell_type": "code",
   "execution_count": 167,
   "metadata": {
    "scrolled": true
   },
   "outputs": [
    {
     "data": {
      "image/png": "[encoded data removed]",
      "text/plain": [
       "<Figure size 432x288 with 1 Axes>"
      ]
     },
     "metadata": {
      "needs_background": "light"
     },
     "output_type": "display_data"
    }
   ],
   "source": [
    "sns.countplot(pets_as_zero['Type']);"
   ]
  },
  {
   "cell_type": "markdown",
   "metadata": {},
   "source": [
    "#### Age"
   ]
  },
  {
   "cell_type": "code",
   "execution_count": 168,
   "metadata": {},
   "outputs": [
    {
     "data": {
      "image/png": "[encoded data removed]",
      "text/plain": [
       "<Figure size 720x432 with 1 Axes>"
      ]
     },
     "metadata": {
      "needs_background": "light"
     },
     "output_type": "display_data"
    }
   ],
   "source": [
    "plt.figure(figsize=(10,6))\n",
    "plt.hist(pets_as_zero['Age']);\n",
    "plt.xlabel('Age in months');"
   ]
  },
  {
   "cell_type": "markdown",
   "metadata": {},
   "source": [
    "#### Gender"
   ]
  },
  {
   "cell_type": "code",
   "execution_count": 169,
   "metadata": {},
   "outputs": [],
   "source": [
    "gender_desc_dict = {1:'Male',2:'Female',3:'Mixed'}\n",
    "pets_as_zero['Gender'] = pets_as_zero['Gender'].map(gender_desc_dict)"
   ]
  },
  {
   "cell_type": "code",
   "execution_count": 170,
   "metadata": {},
   "outputs": [
    {
     "data": {
      "image/png": "[encoded data removed]",
      "text/plain": [
       "<Figure size 432x288 with 1 Axes>"
      ]
     },
     "metadata": {
      "needs_background": "light"
     },
     "output_type": "display_data"
    }
   ],
   "source": [
    "sns.countplot(pets_as_zero['Gender']);"
   ]
  },
  {
   "cell_type": "markdown",
   "metadata": {},
   "source": [
    "#### Color"
   ]
  },
  {
   "cell_type": "code",
   "execution_count": 171,
   "metadata": {},
   "outputs": [
    {
     "data": {
      "image/png": "[encoded data removed]",
      "text/plain": [
       "<Figure size 1008x288 with 3 Axes>"
      ]
     },
     "metadata": {
      "needs_background": "light"
     },
     "output_type": "display_data"
    }
   ],
   "source": [
    "fig,axs = plt.subplots(figsize=(14,4), nrows=1,ncols=3)\n",
    "\n",
    "sns.countplot(pets_as_zero['Color1'],ax=axs[0]);\n",
    "sns.countplot(pets_as_zero['Color2'],ax=axs[1]);\n",
    "sns.countplot(pets_as_zero['Color3'],ax=axs[2]);"
   ]
  },
  {
   "cell_type": "markdown",
   "metadata": {},
   "source": [
    "#### MaturitySize"
   ]
  },
  {
   "cell_type": "code",
   "execution_count": 172,
   "metadata": {},
   "outputs": [],
   "source": [
    "maturitySize_desc_dict = {0:'Not Specified',1:'Small',2:'Medium',3:'Large',4:'Extra Large'}\n",
    "pets_as_zero['MaturitySize'] = pets_as_zero['MaturitySize'].map(maturitySize_desc_dict)"
   ]
  },
  {
   "cell_type": "code",
   "execution_count": 173,
   "metadata": {},
   "outputs": [
    {
     "data": {
      "image/png": "[encoded data removed]",
      "text/plain": [
       "<Figure size 432x288 with 1 Axes>"
      ]
     },
     "metadata": {
      "needs_background": "light"
     },
     "output_type": "display_data"
    }
   ],
   "source": [
    "sns.countplot(pets_as_zero['MaturitySize']);"
   ]
  },
  {
   "cell_type": "markdown",
   "metadata": {},
   "source": [
    "#### FurLength"
   ]
  },
  {
   "cell_type": "code",
   "execution_count": 174,
   "metadata": {},
   "outputs": [],
   "source": [
    "furLength_desc_dict = {0:'Not Specified',1:'Short',2:'Medium',3:'Long'}\n",
    "pets_as_zero['FurLength'] = pets_as_zero['FurLength'].map(furLength_desc_dict)"
   ]
  },
  {
   "cell_type": "code",
   "execution_count": 175,
   "metadata": {},
   "outputs": [
    {
     "data": {
      "image/png": "[encoded data removed]",
      "text/plain": [
       "<Figure size 432x288 with 1 Axes>"
      ]
     },
     "metadata": {
      "needs_background": "light"
     },
     "output_type": "display_data"
    }
   ],
   "source": [
    "sns.countplot(pets_as_zero['FurLength']);"
   ]
  },
  {
   "cell_type": "markdown",
   "metadata": {},
   "source": [
    "#### Breed"
   ]
  },
  {
   "cell_type": "code",
   "execution_count": 176,
   "metadata": {},
   "outputs": [
    {
     "data": {
      "image/png": "[encoded data removed]",
      "text/plain": [
       "<Figure size 1080x720 with 2 Axes>"
      ]
     },
     "metadata": {
      "needs_background": "light"
     },
     "output_type": "display_data"
    }
   ],
   "source": [
    "fig,axs = plt.subplots(figsize=(15,10), nrows=2,ncols=1)\n",
    "\n",
    "sns.countplot(pets_as_zero['Breed1'],ax=axs[0]);\n",
    "sns.countplot(pets_as_zero['Breed2'],ax=axs[1]);"
   ]
  },
  {
   "cell_type": "markdown",
   "metadata": {},
   "source": [
    "#### Vaccinated"
   ]
  },
  {
   "cell_type": "code",
   "execution_count": 177,
   "metadata": {},
   "outputs": [],
   "source": [
    "Vaccinated_desc_dict = {1:'Yes',2:'No',3:'Not Sure'}\n",
    "pets_as_zero['Vaccinated'] = pets_as_zero['Vaccinated'].map(Vaccinated_desc_dict)"
   ]
  },
  {
   "cell_type": "code",
   "execution_count": 178,
   "metadata": {},
   "outputs": [
    {
     "data": {
      "image/png": "[encoded data removed]",
      "text/plain": [
       "<Figure size 432x288 with 1 Axes>"
      ]
     },
     "metadata": {
      "needs_background": "light"
     },
     "output_type": "display_data"
    }
   ],
   "source": [
    "sns.countplot(pets_as_zero['Vaccinated']);"
   ]
  },
  {
   "cell_type": "markdown",
   "metadata": {},
   "source": [
    "#### Dewormed"
   ]
  },
  {
   "cell_type": "code",
   "execution_count": 179,
   "metadata": {},
   "outputs": [],
   "source": [
    "dewormed_desc_dict = {1:'Yes',2:'No',3:'Not Sure'}\n",
    "pets_as_zero['Dewormed'] = pets_as_zero['Dewormed'].map(dewormed_desc_dict)"
   ]
  },
  {
   "cell_type": "code",
   "execution_count": 180,
   "metadata": {},
   "outputs": [
    {
     "data": {
      "image/png": "[encoded data removed]",
      "text/plain": [
       "<Figure size 432x288 with 1 Axes>"
      ]
     },
     "metadata": {
      "needs_background": "light"
     },
     "output_type": "display_data"
    }
   ],
   "source": [
    "sns.countplot(pets_as_zero['Dewormed']);"
   ]
  },
  {
   "cell_type": "markdown",
   "metadata": {},
   "source": [
    "#### Sterilized"
   ]
  },
  {
   "cell_type": "code",
   "execution_count": 181,
   "metadata": {},
   "outputs": [],
   "source": [
    "sterlized_desc_dict = {1:'Yes',2:'No',3:'Not Sure'}\n",
    "pets_as_zero['Sterilized'] = pets_as_zero['Sterilized'].map(sterlized_desc_dict)"
   ]
  },
  {
   "cell_type": "code",
   "execution_count": 182,
   "metadata": {},
   "outputs": [
    {
     "data": {
      "image/png": "[encoded data removed]",
      "text/plain": [
       "<Figure size 432x288 with 1 Axes>"
      ]
     },
     "metadata": {
      "needs_background": "light"
     },
     "output_type": "display_data"
    }
   ],
   "source": [
    "sns.countplot(pets_as_zero['Sterilized']);"
   ]
  },
  {
   "cell_type": "markdown",
   "metadata": {},
   "source": [
    "#### Health"
   ]
  },
  {
   "cell_type": "code",
   "execution_count": 183,
   "metadata": {},
   "outputs": [],
   "source": [
    "health_desc_dict = {0:'Not Specified',1:'Healthy',2:'Minor Injury',3:'Serious Injury'}\n",
    "pets_as_zero['Health'] = pets_as_zero['Health'].map(health_desc_dict)"
   ]
  },
  {
   "cell_type": "code",
   "execution_count": 184,
   "metadata": {},
   "outputs": [
    {
     "data": {
      "image/png": "[encoded data removed]",
      "text/plain": [
       "<Figure size 432x288 with 1 Axes>"
      ]
     },
     "metadata": {
      "needs_background": "light"
     },
     "output_type": "display_data"
    }
   ],
   "source": [
    "sns.countplot(pets_as_zero['Health']);"
   ]
  },
  {
   "cell_type": "markdown",
   "metadata": {},
   "source": [
    "### Observation 2\n",
    "\n",
    "There are listing containing groups of pets hence there are 3 genders. Gender = 3 means the listing was for group of pets"
   ]
  },
  {
   "cell_type": "markdown",
   "metadata": {},
   "source": [
    "### Effect of Fees on Adoption Speed"
   ]
  },
  {
   "cell_type": "code",
   "execution_count": 226,
   "metadata": {},
   "outputs": [
    {
     "data": {
      "text/plain": [
       "0       357\n",
       "100       9\n",
       "50        8\n",
       "150       5\n",
       "500       4\n",
       "200       4\n",
       "350       2\n",
       "1         2\n",
       "10        2\n",
       "25        2\n",
       "30        2\n",
       "400       2\n",
       "250       2\n",
       "300       2\n",
       "70        1\n",
       "1000      1\n",
       "35        1\n",
       "120       1\n",
       "160       1\n",
       "8         1\n",
       "80        1\n",
       "Name: Fee, dtype: int64"
      ]
     },
     "execution_count": 226,
     "metadata": {},
     "output_type": "execute_result"
    }
   ],
   "source": [
    "pets_as_zero['Fee'].value_counts()"
   ]
  },
  {
   "cell_type": "code",
   "execution_count": 207,
   "metadata": {},
   "outputs": [
    {
     "data": {
      "text/plain": [
       "(14993, 1)"
      ]
     },
     "execution_count": 207,
     "metadata": {},
     "output_type": "execute_result"
    }
   ],
   "source": [
    "fee = train_df['Fee'].values\n",
    "from sklearn.preprocessing import Normalizer\n",
    "fee = Normalizer().fit_transform(fee[:,np.newaxis])\n",
    "fee.shape"
   ]
  },
  {
   "cell_type": "code",
   "execution_count": 208,
   "metadata": {},
   "outputs": [
    {
     "data": {
      "image/png": "[encoded data removed]",
      "text/plain": [
       "<Figure size 432x288 with 1 Axes>"
      ]
     },
     "metadata": {
      "needs_background": "light"
     },
     "output_type": "display_data"
    }
   ],
   "source": [
    "plt.hist(fee,bins=20);"
   ]
  },
  {
   "cell_type": "code",
   "execution_count": 193,
   "metadata": {},
   "outputs": [
    {
     "data": {
      "text/plain": [
       "<matplotlib.axes._subplots.AxesSubplot at 0x1a270a84a8>"
      ]
     },
     "execution_count": 193,
     "metadata": {},
     "output_type": "execute_result"
    },
    {
     "data": {
      "image/png": "[encoded data removed]",
      "text/plain": [
       "<Figure size 432x288 with 1 Axes>"
      ]
     },
     "metadata": {
      "needs_background": "light"
     },
     "output_type": "display_data"
    }
   ],
   "source": [
    "sns.distplot(train_df['Fee'])"
   ]
  },
  {
   "cell_type": "code",
   "execution_count": 190,
   "metadata": {},
   "outputs": [
    {
     "data": {
      "text/plain": [
       "<matplotlib.collections.PathCollection at 0x1a24538160>"
      ]
     },
     "execution_count": 190,
     "metadata": {},
     "output_type": "execute_result"
    },
    {
     "data": {
      "image/png": "[encoded data removed]",
      "text/plain": [
       "<Figure size 432x288 with 1 Axes>"
      ]
     },
     "metadata": {
      "needs_background": "light"
     },
     "output_type": "display_data"
    }
   ],
   "source": [
    "plt.scatter(train_df['AdoptionSpeed'],train_df['Fee'])"
   ]
  },
  {
   "cell_type": "code",
   "execution_count": 221,
   "metadata": {},
   "outputs": [
    {
     "data": {
      "text/plain": [
       "[<matplotlib.lines.Line2D at 0x1a2945c358>]"
      ]
     },
     "execution_count": 221,
     "metadata": {},
     "output_type": "execute_result"
    },
    {
     "data": {
      "image/png": "[encoded data removed]",
      "text/plain": [
       "<Figure size 432x288 with 1 Axes>"
      ]
     },
     "metadata": {
      "needs_background": "light"
     },
     "output_type": "display_data"
    }
   ],
   "source": [
    "fee_val_counts = train_df['Fee'].value_counts()\n",
    "fee_val_counts = fee_val_counts[1:]\n",
    "plt.plot(fee_val_counts)"
   ]
  },
  {
   "cell_type": "code",
   "execution_count": 225,
   "metadata": {},
   "outputs": [
    {
     "data": {
      "text/plain": [
       "(array([1.4673e+04, 2.9500e+02, 1.9000e+01, 4.0000e+00, 0.0000e+00,\n",
       "        0.0000e+00, 1.0000e+00, 0.0000e+00, 0.0000e+00, 1.0000e+00]),\n",
       " array([-0.27113205,  3.55481625,  7.38076455, 11.20671284, 15.03266114,\n",
       "        18.85860944, 22.68455774, 26.51050603, 30.33645433, 34.16240263,\n",
       "        37.98835093]),\n",
       " <a list of 10 Patch objects>)"
      ]
     },
     "execution_count": 225,
     "metadata": {},
     "output_type": "execute_result"
    },
    {
     "data": {
      "image/png": "[encoded data removed]",
      "text/plain": [
       "<Figure size 432x288 with 1 Axes>"
      ]
     },
     "metadata": {
      "needs_background": "light"
     },
     "output_type": "display_data"
    }
   ],
   "source": [
    "from sklearn.preprocessing import StandardScaler\n",
    "fee = StandardScaler().fit_transform(train_df['Fee'][:,np.newaxis])\n",
    "plt.hist(fee)"
   ]
  },
  {
   "cell_type": "markdown",
   "metadata": {},
   "source": [
    "### Video Amount"
   ]
  },
  {
   "cell_type": "code",
   "execution_count": 228,
   "metadata": {},
   "outputs": [
    {
     "data": {
      "text/plain": [
       "0    14419\n",
       "1      417\n",
       "2       92\n",
       "3       36\n",
       "4       15\n",
       "5        7\n",
       "6        4\n",
       "8        2\n",
       "7        1\n",
       "Name: VideoAmt, dtype: int64"
      ]
     },
     "execution_count": 228,
     "metadata": {},
     "output_type": "execute_result"
    }
   ],
   "source": [
    "train_df['VideoAmt'].value_counts()"
   ]
  },
  {
   "cell_type": "code",
   "execution_count": 230,
   "metadata": {},
   "outputs": [
    {
     "data": {
      "text/plain": [
       "0    390\n",
       "1     16\n",
       "2      3\n",
       "3      1\n",
       "Name: VideoAmt, dtype: int64"
      ]
     },
     "execution_count": 230,
     "metadata": {},
     "output_type": "execute_result"
    }
   ],
   "source": [
    "train_df.loc[train_df['AdoptionSpeed']==0,'VideoAmt'].value_counts()"
   ]
  },
  {
   "cell_type": "markdown",
   "metadata": {},
   "source": [
    "### Photo Amount"
   ]
  },
  {
   "cell_type": "code",
   "execution_count": 232,
   "metadata": {},
   "outputs": [
    {
     "data": {
      "text/plain": [
       "1.0    3075\n",
       "2.0    2518\n",
       "3.0    2511\n",
       "5.0    2147\n",
       "4.0    1881\n",
       "Name: PhotoAmt, dtype: int64"
      ]
     },
     "execution_count": 232,
     "metadata": {},
     "output_type": "execute_result"
    }
   ],
   "source": [
    "train_df['PhotoAmt'].value_counts().head()"
   ]
  },
  {
   "cell_type": "code",
   "execution_count": 233,
   "metadata": {},
   "outputs": [
    {
     "data": {
      "text/plain": [
       "2.0     83\n",
       "1.0     75\n",
       "3.0     75\n",
       "5.0     65\n",
       "4.0     45\n",
       "0.0     24\n",
       "6.0     15\n",
       "8.0      6\n",
       "7.0      6\n",
       "10.0     4\n",
       "15.0     2\n",
       "9.0      2\n",
       "19.0     2\n",
       "11.0     2\n",
       "12.0     2\n",
       "27.0     1\n",
       "13.0     1\n",
       "Name: PhotoAmt, dtype: int64"
      ]
     },
     "execution_count": 233,
     "metadata": {},
     "output_type": "execute_result"
    }
   ],
   "source": [
    "train_df.loc[train_df['AdoptionSpeed']==0,'PhotoAmt'].value_counts()"
   ]
  },
  {
   "cell_type": "markdown",
   "metadata": {},
   "source": [
    "### Description"
   ]
  },
  {
   "cell_type": "code",
   "execution_count": 239,
   "metadata": {},
   "outputs": [
    {
     "data": {
      "text/plain": [
       "481      6664.0\n",
       "11843    5955.0\n",
       "8019     5798.0\n",
       "1839     5289.0\n",
       "2033     4582.0\n",
       "8538     4568.0\n",
       "5277     4549.0\n",
       "7482     4545.0\n",
       "4998     4500.0\n",
       "13523    4286.0\n",
       "8693     4014.0\n",
       "8829     3809.0\n",
       "11214    3655.0\n",
       "9895     3553.0\n",
       "1241     3531.0\n",
       "2920     3493.0\n",
       "4562     3468.0\n",
       "5815     3454.0\n",
       "994      3453.0\n",
       "13631    3395.0\n",
       "10133    3360.0\n",
       "7167     3331.0\n",
       "14269    3248.0\n",
       "7233     3134.0\n",
       "9263     3125.0\n",
       "396      3100.0\n",
       "5902     3098.0\n",
       "6760     3032.0\n",
       "9931     2991.0\n",
       "3287     2989.0\n",
       "          ...  \n",
       "14875       3.0\n",
       "10099       3.0\n",
       "1974        3.0\n",
       "4337        2.0\n",
       "13501       2.0\n",
       "13280       2.0\n",
       "10372       2.0\n",
       "13288       1.0\n",
       "10014       1.0\n",
       "13386       1.0\n",
       "1569        1.0\n",
       "1601        1.0\n",
       "1522        1.0\n",
       "2514        1.0\n",
       "5807        1.0\n",
       "8342        1.0\n",
       "10907       1.0\n",
       "436         1.0\n",
       "96          NaN\n",
       "605         NaN\n",
       "1098        NaN\n",
       "2109        NaN\n",
       "4218        NaN\n",
       "4904        NaN\n",
       "6041        NaN\n",
       "8674        NaN\n",
       "10272       NaN\n",
       "11365       NaN\n",
       "12713       NaN\n",
       "14809       NaN\n",
       "Name: Description, Length: 14993, dtype: float64"
      ]
     },
     "execution_count": 239,
     "metadata": {},
     "output_type": "execute_result"
    }
   ],
   "source": [
    "train_df['Description'].str.len().sort_values(ascending=False)"
   ]
  },
  {
   "cell_type": "code",
   "execution_count": 244,
   "metadata": {},
   "outputs": [
    {
     "data": {
      "text/plain": [
       "Type                                            2\n",
       "Name                                        Manja\n",
       "Age                                            19\n",
       "Breed1                                        285\n",
       "Breed2                                          0\n",
       "Gender                                          2\n",
       "Color1                                          1\n",
       "Color2                                          6\n",
       "Color3                                          0\n",
       "MaturitySize                                    3\n",
       "FurLength                                       3\n",
       "Vaccinated                                      1\n",
       "Dewormed                                        1\n",
       "Sterilized                                      2\n",
       "Health                                          1\n",
       "Quantity                                        1\n",
       "Fee                                             0\n",
       "State                                       41401\n",
       "RescuerID        12c51d7222986fbf000db9061f5082be\n",
       "VideoAmt                                        0\n",
       "Description                                   NaN\n",
       "PetID                                   5e4154870\n",
       "PhotoAmt                                        3\n",
       "AdoptionSpeed                                   1\n",
       "Name: 96, dtype: object"
      ]
     },
     "execution_count": 244,
     "metadata": {},
     "output_type": "execute_result"
    }
   ],
   "source": [
    "train_df.iloc[96]"
   ]
  },
  {
   "cell_type": "code",
   "execution_count": 246,
   "metadata": {},
   "outputs": [
    {
     "data": {
      "text/html": [
       "<div>\n",
       "<style scoped>\n",
       "    .dataframe tbody tr th:only-of-type {\n",
       "        vertical-align: middle;\n",
       "    }\n",
       "\n",
       "    .dataframe tbody tr th {\n",
       "        vertical-align: top;\n",
       "    }\n",
       "\n",
       "    .dataframe thead th {\n",
       "        text-align: right;\n",
       "    }\n",
       "</style>\n",
       "<table border=\"1\" class=\"dataframe\">\n",
       "  <thead>\n",
       "    <tr style=\"text-align: right;\">\n",
       "      <th></th>\n",
       "      <th>Type</th>\n",
       "      <th>Name</th>\n",
       "      <th>Age</th>\n",
       "      <th>Breed1</th>\n",
       "      <th>Breed2</th>\n",
       "      <th>Gender</th>\n",
       "      <th>Color1</th>\n",
       "      <th>Color2</th>\n",
       "      <th>Color3</th>\n",
       "      <th>MaturitySize</th>\n",
       "      <th>FurLength</th>\n",
       "      <th>Vaccinated</th>\n",
       "      <th>Dewormed</th>\n",
       "      <th>Sterilized</th>\n",
       "      <th>Health</th>\n",
       "      <th>Quantity</th>\n",
       "      <th>Fee</th>\n",
       "      <th>State</th>\n",
       "      <th>RescuerID</th>\n",
       "      <th>VideoAmt</th>\n",
       "      <th>Description</th>\n",
       "      <th>PetID</th>\n",
       "      <th>PhotoAmt</th>\n",
       "      <th>AdoptionSpeed</th>\n",
       "    </tr>\n",
       "  </thead>\n",
       "  <tbody>\n",
       "    <tr>\n",
       "      <th>96</th>\n",
       "      <td>2</td>\n",
       "      <td>Manja</td>\n",
       "      <td>19</td>\n",
       "      <td>285</td>\n",
       "      <td>0</td>\n",
       "      <td>2</td>\n",
       "      <td>1</td>\n",
       "      <td>6</td>\n",
       "      <td>0</td>\n",
       "      <td>3</td>\n",
       "      <td>3</td>\n",
       "      <td>1</td>\n",
       "      <td>1</td>\n",
       "      <td>2</td>\n",
       "      <td>1</td>\n",
       "      <td>1</td>\n",
       "      <td>0</td>\n",
       "      <td>41401</td>\n",
       "      <td>12c51d7222986fbf000db9061f5082be</td>\n",
       "      <td>0</td>\n",
       "      <td>NaN</td>\n",
       "      <td>5e4154870</td>\n",
       "      <td>3.0</td>\n",
       "      <td>1</td>\n",
       "    </tr>\n",
       "    <tr>\n",
       "      <th>605</th>\n",
       "      <td>2</td>\n",
       "      <td>Mickey</td>\n",
       "      <td>2</td>\n",
       "      <td>264</td>\n",
       "      <td>0</td>\n",
       "      <td>1</td>\n",
       "      <td>1</td>\n",
       "      <td>7</td>\n",
       "      <td>0</td>\n",
       "      <td>2</td>\n",
       "      <td>2</td>\n",
       "      <td>2</td>\n",
       "      <td>2</td>\n",
       "      <td>2</td>\n",
       "      <td>1</td>\n",
       "      <td>1</td>\n",
       "      <td>0</td>\n",
       "      <td>41401</td>\n",
       "      <td>bb7e38ebd628443cefb56024635dd647</td>\n",
       "      <td>0</td>\n",
       "      <td>NaN</td>\n",
       "      <td>56583003c</td>\n",
       "      <td>3.0</td>\n",
       "      <td>4</td>\n",
       "    </tr>\n",
       "    <tr>\n",
       "      <th>1098</th>\n",
       "      <td>2</td>\n",
       "      <td>Pucci</td>\n",
       "      <td>6</td>\n",
       "      <td>266</td>\n",
       "      <td>292</td>\n",
       "      <td>1</td>\n",
       "      <td>1</td>\n",
       "      <td>6</td>\n",
       "      <td>0</td>\n",
       "      <td>1</td>\n",
       "      <td>1</td>\n",
       "      <td>1</td>\n",
       "      <td>1</td>\n",
       "      <td>3</td>\n",
       "      <td>1</td>\n",
       "      <td>1</td>\n",
       "      <td>0</td>\n",
       "      <td>41326</td>\n",
       "      <td>90b00f90ffdf9ec1cac529a2bbef3ecc</td>\n",
       "      <td>0</td>\n",
       "      <td>NaN</td>\n",
       "      <td>8c4c4bc6e</td>\n",
       "      <td>1.0</td>\n",
       "      <td>4</td>\n",
       "    </tr>\n",
       "    <tr>\n",
       "      <th>2109</th>\n",
       "      <td>1</td>\n",
       "      <td>Chelsea And Sherbert</td>\n",
       "      <td>31</td>\n",
       "      <td>307</td>\n",
       "      <td>0</td>\n",
       "      <td>2</td>\n",
       "      <td>1</td>\n",
       "      <td>2</td>\n",
       "      <td>7</td>\n",
       "      <td>2</td>\n",
       "      <td>2</td>\n",
       "      <td>1</td>\n",
       "      <td>1</td>\n",
       "      <td>1</td>\n",
       "      <td>1</td>\n",
       "      <td>2</td>\n",
       "      <td>0</td>\n",
       "      <td>41401</td>\n",
       "      <td>c814d8b7928da23e3add9ec4d270de95</td>\n",
       "      <td>0</td>\n",
       "      <td>NaN</td>\n",
       "      <td>50eddd1bb</td>\n",
       "      <td>3.0</td>\n",
       "      <td>2</td>\n",
       "    </tr>\n",
       "    <tr>\n",
       "      <th>4218</th>\n",
       "      <td>2</td>\n",
       "      <td>Mog</td>\n",
       "      <td>84</td>\n",
       "      <td>266</td>\n",
       "      <td>0</td>\n",
       "      <td>1</td>\n",
       "      <td>3</td>\n",
       "      <td>0</td>\n",
       "      <td>0</td>\n",
       "      <td>3</td>\n",
       "      <td>1</td>\n",
       "      <td>1</td>\n",
       "      <td>1</td>\n",
       "      <td>1</td>\n",
       "      <td>1</td>\n",
       "      <td>1</td>\n",
       "      <td>0</td>\n",
       "      <td>41401</td>\n",
       "      <td>bc630ee7cec2fa789b0412ff798df83f</td>\n",
       "      <td>0</td>\n",
       "      <td>NaN</td>\n",
       "      <td>9d82e4438</td>\n",
       "      <td>5.0</td>\n",
       "      <td>2</td>\n",
       "    </tr>\n",
       "    <tr>\n",
       "      <th>4904</th>\n",
       "      <td>2</td>\n",
       "      <td>Brumby</td>\n",
       "      <td>2</td>\n",
       "      <td>299</td>\n",
       "      <td>0</td>\n",
       "      <td>1</td>\n",
       "      <td>1</td>\n",
       "      <td>7</td>\n",
       "      <td>0</td>\n",
       "      <td>2</td>\n",
       "      <td>1</td>\n",
       "      <td>2</td>\n",
       "      <td>1</td>\n",
       "      <td>2</td>\n",
       "      <td>1</td>\n",
       "      <td>1</td>\n",
       "      <td>0</td>\n",
       "      <td>41326</td>\n",
       "      <td>744fa4278196568a18fcf5cd7d324ed2</td>\n",
       "      <td>0</td>\n",
       "      <td>NaN</td>\n",
       "      <td>ba16888d7</td>\n",
       "      <td>2.0</td>\n",
       "      <td>2</td>\n",
       "    </tr>\n",
       "    <tr>\n",
       "      <th>6041</th>\n",
       "      <td>2</td>\n",
       "      <td>Oshin &amp; Lola</td>\n",
       "      <td>3</td>\n",
       "      <td>254</td>\n",
       "      <td>254</td>\n",
       "      <td>2</td>\n",
       "      <td>2</td>\n",
       "      <td>7</td>\n",
       "      <td>0</td>\n",
       "      <td>1</td>\n",
       "      <td>1</td>\n",
       "      <td>2</td>\n",
       "      <td>2</td>\n",
       "      <td>3</td>\n",
       "      <td>1</td>\n",
       "      <td>2</td>\n",
       "      <td>0</td>\n",
       "      <td>41326</td>\n",
       "      <td>6a33f105d818ce64de49a0b83a33b35a</td>\n",
       "      <td>0</td>\n",
       "      <td>NaN</td>\n",
       "      <td>4ec25bc3b</td>\n",
       "      <td>4.0</td>\n",
       "      <td>3</td>\n",
       "    </tr>\n",
       "    <tr>\n",
       "      <th>8674</th>\n",
       "      <td>2</td>\n",
       "      <td>KANTHAKA</td>\n",
       "      <td>2</td>\n",
       "      <td>299</td>\n",
       "      <td>0</td>\n",
       "      <td>2</td>\n",
       "      <td>1</td>\n",
       "      <td>7</td>\n",
       "      <td>0</td>\n",
       "      <td>2</td>\n",
       "      <td>1</td>\n",
       "      <td>2</td>\n",
       "      <td>1</td>\n",
       "      <td>2</td>\n",
       "      <td>1</td>\n",
       "      <td>1</td>\n",
       "      <td>0</td>\n",
       "      <td>41326</td>\n",
       "      <td>744fa4278196568a18fcf5cd7d324ed2</td>\n",
       "      <td>0</td>\n",
       "      <td>NaN</td>\n",
       "      <td>97f0a97ef</td>\n",
       "      <td>1.0</td>\n",
       "      <td>2</td>\n",
       "    </tr>\n",
       "    <tr>\n",
       "      <th>10272</th>\n",
       "      <td>1</td>\n",
       "      <td>Unknown</td>\n",
       "      <td>0</td>\n",
       "      <td>307</td>\n",
       "      <td>0</td>\n",
       "      <td>1</td>\n",
       "      <td>5</td>\n",
       "      <td>7</td>\n",
       "      <td>0</td>\n",
       "      <td>2</td>\n",
       "      <td>2</td>\n",
       "      <td>3</td>\n",
       "      <td>3</td>\n",
       "      <td>3</td>\n",
       "      <td>2</td>\n",
       "      <td>1</td>\n",
       "      <td>0</td>\n",
       "      <td>41326</td>\n",
       "      <td>f0997d267a9acadd44a5301a18f83df5</td>\n",
       "      <td>0</td>\n",
       "      <td>NaN</td>\n",
       "      <td>f67786a70</td>\n",
       "      <td>0.0</td>\n",
       "      <td>4</td>\n",
       "    </tr>\n",
       "    <tr>\n",
       "      <th>11365</th>\n",
       "      <td>2</td>\n",
       "      <td>J</td>\n",
       "      <td>25</td>\n",
       "      <td>292</td>\n",
       "      <td>292</td>\n",
       "      <td>1</td>\n",
       "      <td>2</td>\n",
       "      <td>0</td>\n",
       "      <td>0</td>\n",
       "      <td>3</td>\n",
       "      <td>1</td>\n",
       "      <td>1</td>\n",
       "      <td>1</td>\n",
       "      <td>1</td>\n",
       "      <td>1</td>\n",
       "      <td>1</td>\n",
       "      <td>0</td>\n",
       "      <td>41326</td>\n",
       "      <td>0bda3ae2e5c78a3b2ff9a725dbe42161</td>\n",
       "      <td>0</td>\n",
       "      <td>NaN</td>\n",
       "      <td>f775ef952</td>\n",
       "      <td>1.0</td>\n",
       "      <td>2</td>\n",
       "    </tr>\n",
       "    <tr>\n",
       "      <th>12713</th>\n",
       "      <td>1</td>\n",
       "      <td>Ben</td>\n",
       "      <td>7</td>\n",
       "      <td>109</td>\n",
       "      <td>0</td>\n",
       "      <td>1</td>\n",
       "      <td>3</td>\n",
       "      <td>0</td>\n",
       "      <td>0</td>\n",
       "      <td>3</td>\n",
       "      <td>2</td>\n",
       "      <td>1</td>\n",
       "      <td>1</td>\n",
       "      <td>1</td>\n",
       "      <td>1</td>\n",
       "      <td>1</td>\n",
       "      <td>250</td>\n",
       "      <td>41326</td>\n",
       "      <td>64c0b95d07c9e6d3ea11f801abf69104</td>\n",
       "      <td>0</td>\n",
       "      <td>NaN</td>\n",
       "      <td>453750088</td>\n",
       "      <td>4.0</td>\n",
       "      <td>1</td>\n",
       "    </tr>\n",
       "    <tr>\n",
       "      <th>14809</th>\n",
       "      <td>2</td>\n",
       "      <td>No Name</td>\n",
       "      <td>1</td>\n",
       "      <td>266</td>\n",
       "      <td>0</td>\n",
       "      <td>3</td>\n",
       "      <td>2</td>\n",
       "      <td>7</td>\n",
       "      <td>0</td>\n",
       "      <td>1</td>\n",
       "      <td>1</td>\n",
       "      <td>3</td>\n",
       "      <td>3</td>\n",
       "      <td>3</td>\n",
       "      <td>2</td>\n",
       "      <td>4</td>\n",
       "      <td>0</td>\n",
       "      <td>41401</td>\n",
       "      <td>d1b04577a08e6b77cb39fbf28931bf9c</td>\n",
       "      <td>0</td>\n",
       "      <td>NaN</td>\n",
       "      <td>437d65d38</td>\n",
       "      <td>2.0</td>\n",
       "      <td>4</td>\n",
       "    </tr>\n",
       "  </tbody>\n",
       "</table>\n",
       "</div>"
      ],
      "text/plain": [
       "       Type                  Name  Age  Breed1  Breed2  Gender  Color1  \\\n",
       "96        2                 Manja   19     285       0       2       1   \n",
       "605       2                Mickey    2     264       0       1       1   \n",
       "1098      2                 Pucci    6     266     292       1       1   \n",
       "2109      1  Chelsea And Sherbert   31     307       0       2       1   \n",
       "4218      2                   Mog   84     266       0       1       3   \n",
       "4904      2                Brumby    2     299       0       1       1   \n",
       "6041      2          Oshin & Lola    3     254     254       2       2   \n",
       "8674      2              KANTHAKA    2     299       0       2       1   \n",
       "10272     1               Unknown    0     307       0       1       5   \n",
       "11365     2                     J   25     292     292       1       2   \n",
       "12713     1                   Ben    7     109       0       1       3   \n",
       "14809     2               No Name    1     266       0       3       2   \n",
       "\n",
       "       Color2  Color3  MaturitySize  FurLength  Vaccinated  Dewormed  \\\n",
       "96          6       0             3          3           1         1   \n",
       "605         7       0             2          2           2         2   \n",
       "1098        6       0             1          1           1         1   \n",
       "2109        2       7             2          2           1         1   \n",
       "4218        0       0             3          1           1         1   \n",
       "4904        7       0             2          1           2         1   \n",
       "6041        7       0             1          1           2         2   \n",
       "8674        7       0             2          1           2         1   \n",
       "10272       7       0             2          2           3         3   \n",
       "11365       0       0             3          1           1         1   \n",
       "12713       0       0             3          2           1         1   \n",
       "14809       7       0             1          1           3         3   \n",
       "\n",
       "       Sterilized  Health  Quantity  Fee  State  \\\n",
       "96              2       1         1    0  41401   \n",
       "605             2       1         1    0  41401   \n",
       "1098            3       1         1    0  41326   \n",
       "2109            1       1         2    0  41401   \n",
       "4218            1       1         1    0  41401   \n",
       "4904            2       1         1    0  41326   \n",
       "6041            3       1         2    0  41326   \n",
       "8674            2       1         1    0  41326   \n",
       "10272           3       2         1    0  41326   \n",
       "11365           1       1         1    0  41326   \n",
       "12713           1       1         1  250  41326   \n",
       "14809           3       2         4    0  41401   \n",
       "\n",
       "                              RescuerID  VideoAmt Description      PetID  \\\n",
       "96     12c51d7222986fbf000db9061f5082be         0         NaN  5e4154870   \n",
       "605    bb7e38ebd628443cefb56024635dd647         0         NaN  56583003c   \n",
       "1098   90b00f90ffdf9ec1cac529a2bbef3ecc         0         NaN  8c4c4bc6e   \n",
       "2109   c814d8b7928da23e3add9ec4d270de95         0         NaN  50eddd1bb   \n",
       "4218   bc630ee7cec2fa789b0412ff798df83f         0         NaN  9d82e4438   \n",
       "4904   744fa4278196568a18fcf5cd7d324ed2         0         NaN  ba16888d7   \n",
       "6041   6a33f105d818ce64de49a0b83a33b35a         0         NaN  4ec25bc3b   \n",
       "8674   744fa4278196568a18fcf5cd7d324ed2         0         NaN  97f0a97ef   \n",
       "10272  f0997d267a9acadd44a5301a18f83df5         0         NaN  f67786a70   \n",
       "11365  0bda3ae2e5c78a3b2ff9a725dbe42161         0         NaN  f775ef952   \n",
       "12713  64c0b95d07c9e6d3ea11f801abf69104         0         NaN  453750088   \n",
       "14809  d1b04577a08e6b77cb39fbf28931bf9c         0         NaN  437d65d38   \n",
       "\n",
       "       PhotoAmt  AdoptionSpeed  \n",
       "96          3.0              1  \n",
       "605         3.0              4  \n",
       "1098        1.0              4  \n",
       "2109        3.0              2  \n",
       "4218        5.0              2  \n",
       "4904        2.0              2  \n",
       "6041        4.0              3  \n",
       "8674        1.0              2  \n",
       "10272       0.0              4  \n",
       "11365       1.0              2  \n",
       "12713       4.0              1  \n",
       "14809       2.0              4  "
      ]
     },
     "execution_count": 246,
     "metadata": {},
     "output_type": "execute_result"
    }
   ],
   "source": [
    "train_df.loc[train_df['Description'].isnull(),:]"
   ]
  },
  {
   "cell_type": "markdown",
   "metadata": {},
   "source": [
    "### Creating X_train and Y_train dataframes"
   ]
  },
  {
   "cell_type": "code",
   "execution_count": 186,
   "metadata": {},
   "outputs": [
    {
     "name": "stdout",
     "output_type": "stream",
     "text": [
      "Shape of Training Features dataset:  (14993, 23)\n",
      "Shape of Training Response:  (14993,)\n"
     ]
    }
   ],
   "source": [
    "X_train = train_df.loc[:,'Type':'PhotoAmt']\n",
    "Y_train = train_df['AdoptionSpeed']\n",
    "print(\"Shape of Training Features dataset: \", X_train.shape)\n",
    "print(\"Shape of Training Response: \", Y_train.shape)"
   ]
  }
 ],
 "metadata": {
  "kernelspec": {
   "display_name": "Python 3",
   "language": "python",
   "name": "python3"
  },
  "language_info": {
   "codemirror_mode": {
    "name": "ipython",
    "version": 3
   },
   "file_extension": ".py",
   "mimetype": "text/x-python",
   "name": "python",
   "nbconvert_exporter": "python",
   "pygments_lexer": "ipython3",
   "version": "3.6.7"
  },
  "toc": {
   "base_numbering": 1,
   "nav_menu": {},
   "number_sections": true,
   "sideBar": false,
   "skip_h1_title": false,
   "title_cell": "Table of Contents",
   "title_sidebar": "Contents",
   "toc_cell": false,
   "toc_position": {
    "height": "746.95654296875px",
    "left": "1291.48095703125px",
    "top": "1524.578857421875px",
    "width": "457.51361083984375px"
   },
   "toc_section_display": true,
   "toc_window_display": false
  }
 },
 "nbformat": 4,
 "nbformat_minor": 2
}
