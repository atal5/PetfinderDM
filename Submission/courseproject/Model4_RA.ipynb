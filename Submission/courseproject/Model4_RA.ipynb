{
 "cells": [
  {
   "cell_type": "code",
   "execution_count": 1,
   "metadata": {},
   "outputs": [],
   "source": [
    "import pickle\n",
    "import numpy as np\n",
    "import pandas as pd\n",
    "import warnings\n",
    "warnings.filterwarnings('ignore')\n",
    "pd.set_option('max_columns',500)\n",
    "import matplotlib.pyplot as plt"
   ]
  },
  {
   "cell_type": "code",
   "execution_count": 3,
   "metadata": {},
   "outputs": [],
   "source": [
    "from sklearn.model_selection import GridSearchCV, cross_val_score, StratifiedKFold, learning_curve,GroupKFold\n",
    "from sklearn.metrics import cohen_kappa_score\n",
    "from sklearn.metrics import accuracy_score,classification_report, precision_recall_curve, confusion_matrix\n",
    "from sklearn.metrics import confusion_matrix\n",
    "from sklearn.metrics import mean_squared_error\n",
    "from sklearn.metrics import accuracy_score\n",
    "import os\n",
    "os.environ['KMP_DUPLICATE_LIB_OK']='True'\n",
    "from xgboost import XGBClassifier"
   ]
  },
  {
   "cell_type": "code",
   "execution_count": 146,
   "metadata": {},
   "outputs": [],
   "source": [
    "#External Data\n",
    "# state GDP: https://en.wikipedia.org/wiki/List_of_Malaysian_states_by_GDP\n",
    "state_gdp = {\n",
    "    41336: 116.679,\n",
    "    41325: 40.596,\n",
    "    41367: 23.02,\n",
    "    41401: 190.075,\n",
    "    41415: 5.984,\n",
    "    41324: 37.274,\n",
    "    41332: 42.389,\n",
    "    41335: 52.452,\n",
    "    41330: 67.629,\n",
    "    41380: 5.642,\n",
    "    41327: 81.284,\n",
    "    41345: 80.167,\n",
    "    41342: 121.414,\n",
    "    41326: 280.698,\n",
    "    41361: 32.270\n",
    "}\n",
    "\n",
    "# state population: https://en.wikipedia.org/wiki/Malaysia\n",
    "state_population = {\n",
    "    41336: 33.48283,\n",
    "    41325: 19.47651,\n",
    "    41367: 15.39601,\n",
    "    41401: 16.74621,\n",
    "    41415: 0.86908,\n",
    "    41324: 8.21110,\n",
    "    41332: 10.21064,\n",
    "    41335: 15.00817,\n",
    "    41330: 23.52743,\n",
    "    41380: 2.31541,\n",
    "    41327: 15.61383,\n",
    "    41345: 32.06742,\n",
    "    41342: 24.71140,\n",
    "    41326: 54.62141,\n",
    "    41361: 10.35977\n",
    "}\n",
    "\n",
    "state_area ={\n",
    "    41336:19102,\n",
    "41325:9500,\n",
    "41367:15099,\n",
    "41401:243,\n",
    "41415:91,\n",
    "41324:1664,\n",
    "41332:6686,\n",
    "41335:36137,\n",
    "41330:21035,\n",
    "41380:821,\n",
    "41327:1048,\n",
    "41345:73631,\n",
    "41342:124450,\n",
    "41326:8104,\n",
    "41361:13035}\n"
   ]
  },
  {
   "cell_type": "code",
   "execution_count": 426,
   "metadata": {},
   "outputs": [],
   "source": [
    "#Read the train and test cleaned data with engineered features\n",
    "train_copy_df = pd.read_csv('train_complete.csv')\n",
    "test_copy_df = pd.read_csv('test_complete.csv')"
   ]
  },
  {
   "cell_type": "code",
   "execution_count": 427,
   "metadata": {},
   "outputs": [],
   "source": [
    "## is right age and is reproductive \n",
    "#train_copy_df['IsRightAge'] = train_copy_df['Age'].apply(lambda x : 1 if x <=12 else 0 )\n",
    "#test_copy_df['IsRightAge'] = test_copy_df['Age'].apply(lambda x : 1 if x <=12 else 0 )\n",
    "\n",
    "train_copy_df.loc[(train_copy_df['Sterilized']==2) & (train_copy_df['Gender']==2),'IsReproductive'] = 1\n",
    "train_copy_df['IsReproductive'] = train_copy_df['IsReproductive'].fillna(0)\n",
    "\n",
    "test_copy_df.loc[(test_copy_df['Sterilized']==2) & (test_copy_df['Gender']==2),'IsReproductive'] = 1\n",
    "test_copy_df['IsReproductive'] = test_copy_df['IsReproductive'].fillna(0)"
   ]
  },
  {
   "cell_type": "code",
   "execution_count": 428,
   "metadata": {},
   "outputs": [
    {
     "name": "stdout",
     "output_type": "stream",
     "text": [
      "(14993, 64)\n",
      "(3948, 64)\n"
     ]
    }
   ],
   "source": [
    "##Add high Quality pets by rescuer\n",
    "train_rows = train_copy_df.shape[0]\n",
    "test_rows = test_copy_df.shape[0]\n",
    "\n",
    "con_df = pd.concat([train_copy_df,test_copy_df])\n",
    "fil = (con_df['Health']==1) & (con_df['Dewormed']==1) & (con_df['Vaccinated']==1)\n",
    "\n",
    "healthyPetsByEachREscuer = con_df[fil].groupby('RescuerID')['Quantity'].sum()\n",
    "healthyPetsByEachREscuer = pd.DataFrame({'RescuerID':healthyPetsByEachREscuer.index,'Count':healthyPetsByEachREscuer.values})\n",
    "\n",
    "con_df['HighQualityPetsByRescuer'] = con_df['RescuerID'].map(healthyPetsByEachREscuer.set_index('RescuerID')['Count'])\n",
    "\n",
    "con_df['HighQualityPetsByRescuer'] = con_df['HighQualityPetsByRescuer'].fillna(0)\n",
    "con_df['HighQualityPetsByRescuer'] = con_df['HighQualityPetsByRescuer']/con_df['RescuerNumPosts']\n",
    "#con_df['HighQualityPetsByRescuer'] = con_df['HighQualityPetsByRescuer'].astype('int')\n",
    "#Again separate out the train and test sets\n",
    "train_copy_df = con_df.iloc[:train_rows,]\n",
    "test_copy_df = con_df.iloc[train_rows:,]\n",
    "print(train_copy_df.shape)\n",
    "print(test_copy_df.shape)"
   ]
  },
  {
   "cell_type": "code",
   "execution_count": 429,
   "metadata": {},
   "outputs": [],
   "source": [
    "train_copy_df[\"state_gdp\"] = train_copy_df.State.map(state_gdp)\n",
    "train_copy_df[\"state_population\"] = train_copy_df.State.map(state_population)\n",
    "test_copy_df[\"state_gdp\"] = test_copy_df.State.map(state_gdp)\n",
    "test_copy_df[\"state_population\"] = test_copy_df.State.map(state_population)\n",
    "train_copy_df[\"state_area\"] = train_copy_df.State.map(state_area)\n",
    "test_copy_df[\"state_area\"] = test_copy_df.State.map(state_area)"
   ]
  },
  {
   "cell_type": "code",
   "execution_count": 257,
   "metadata": {},
   "outputs": [],
   "source": [
    "cat_cols =['Dewormed','Gender','Health','FurLength','MaturitySize','Sterilized','Vaccinated']"
   ]
  },
  {
   "cell_type": "code",
   "execution_count": 159,
   "metadata": {},
   "outputs": [
    {
     "name": "stdout",
     "output_type": "stream",
     "text": [
      "(14993, 257) (3948, 257)\n"
     ]
    }
   ],
   "source": [
    "#Read image features from pretrained dense net\n",
    "train_denseimage_df = pd.read_csv('train_img_features_fromDenseNet.csv')\n",
    "test_denseimage_df = pd.read_csv('test_img_features_fromDenseNet.csv')\n",
    "print(train_denseimage_df.shape,test_denseimage_df.shape)"
   ]
  },
  {
   "cell_type": "code",
   "execution_count": null,
   "metadata": {},
   "outputs": [],
   "source": [
    "train_denseimage_df = train_denseimage_df.rename({\"Unnamed: 0\":\"PetID\"},axis=1)\n",
    "test_denseimage_df = test_denseimage_df.rename({\"Unnamed: 0\":\"PetID\"},axis=1)\n",
    "test_denseimage_df.head()"
   ]
  },
  {
   "cell_type": "code",
   "execution_count": 167,
   "metadata": {},
   "outputs": [],
   "source": [
    "#merge these features will all other features\n",
    "left = train_copy_df\n",
    "right = train_denseimage_df\n",
    "train_copy_df = pd.merge(left,right,on='PetID',how='left')\n",
    "\n",
    "left = test_copy_df\n",
    "right = test_denseimage_df\n",
    "test_copy_df = pd.merge(left,right,on='PetID',how='left')"
   ]
  },
  {
   "cell_type": "code",
   "execution_count": 118,
   "metadata": {},
   "outputs": [
    {
     "name": "stdout",
     "output_type": "stream",
     "text": [
      "(14993, 10) (3948, 10)\n"
     ]
    }
   ],
   "source": [
    "# #Read the color data from Tobel\n",
    "# train_colors_df = pd.read_csv('train_colors.csv')\n",
    "# test_colors_df = pd.read_csv('test_colors.csv')\n",
    "# test_colors_df = test_colors_df.drop(['Color1','Color2','Color3'],axis=1)\n",
    "# print(train_colors_df.shape,test_colors_df.shape)"
   ]
  },
  {
   "cell_type": "code",
   "execution_count": 119,
   "metadata": {},
   "outputs": [
    {
     "name": "stdout",
     "output_type": "stream",
     "text": [
      "(14993, 12) (3948, 12)\n"
     ]
    }
   ],
   "source": [
    "# #Read the Sentiment features from Tobel\n",
    "# train_sentiments_df = pd.read_csv('train_sentiment_features.csv')\n",
    "# test_sentiments_df = pd.read_csv('test_sentiment_features.csv')\n",
    "# train_sentiments_df = train_sentiments_df.drop(['Description'],axis=1)\n",
    "# test_sentiments_df = test_sentiments_df.drop(['Description'],axis=1)\n",
    "# print(train_sentiments_df.shape,test_sentiments_df.shape)"
   ]
  },
  {
   "cell_type": "code",
   "execution_count": 120,
   "metadata": {},
   "outputs": [],
   "source": [
    "#merge these features will all other features\n",
    "# left = train_copy_df\n",
    "# right = train_colors_df\n",
    "# train_copy_df = pd.merge(left,right,on='PetID',how='left')\n",
    "\n",
    "# left = test_copy_df\n",
    "# right = test_colors_df\n",
    "# test_copy_df = pd.merge(left,right,on='PetID',how='left')\n"
   ]
  },
  {
   "cell_type": "code",
   "execution_count": 121,
   "metadata": {},
   "outputs": [
    {
     "name": "stdout",
     "output_type": "stream",
     "text": [
      "(14993, 82) (3948, 82)\n"
     ]
    }
   ],
   "source": [
    "#merge these features will all other features\n",
    "# left = train_copy_df\n",
    "# right = train_sentiments_df\n",
    "# train_copy_df = pd.merge(left,right,on='PetID',how='left')\n",
    "\n",
    "# left = test_copy_df\n",
    "# right = test_sentiments_df\n",
    "# test_copy_df = pd.merge(left,right,on='PetID',how='left')\n",
    "# print(train_copy_df.shape,test_copy_df.shape)"
   ]
  },
  {
   "cell_type": "code",
   "execution_count": 122,
   "metadata": {},
   "outputs": [],
   "source": [
    "# drop_cols = ['AdoptionSpeed','Description','Name','PetID'\n",
    "#              ,'Quantity','detectionConfidence','headwearLikelihood','joyLikelihood',\n",
    "#             'surpriseLikelihood','sorrowLikelihood',\n",
    "#             'underExposedLikelihood','blurredLikelihood',\n",
    "#             'angerLikelihood']"
   ]
  },
  {
   "cell_type": "code",
   "execution_count": 258,
   "metadata": {},
   "outputs": [],
   "source": [
    "#Get Dummies\n",
    "train_copy_df = pd.get_dummies(train_copy_df,columns=cat_cols)\n",
    "test_copy_df = pd.get_dummies(test_copy_df,columns=cat_cols)"
   ]
  },
  {
   "cell_type": "code",
   "execution_count": 430,
   "metadata": {},
   "outputs": [],
   "source": [
    "drop_cols = ['AdoptionSpeed','Description','Name','PetID'\n",
    "             ,'Quantity']"
   ]
  },
  {
   "cell_type": "code",
   "execution_count": 431,
   "metadata": {},
   "outputs": [
    {
     "name": "stdout",
     "output_type": "stream",
     "text": [
      "(14993, 62) (14993,) (3948, 62)\n"
     ]
    }
   ],
   "source": [
    "#Drop description, petid, name\n",
    "y = train_copy_df['AdoptionSpeed']\n",
    "X = train_copy_df.drop(drop_cols,axis=1)\n",
    "test_X = test_copy_df.drop(drop_cols, axis=1)\n",
    "test_X = test_X.values\n",
    "print(X.shape,y.shape,test_X.shape)"
   ]
  },
  {
   "cell_type": "code",
   "execution_count": 406,
   "metadata": {},
   "outputs": [],
   "source": [
    "from imblearn.over_sampling import SMOTE"
   ]
  },
  {
   "cell_type": "code",
   "execution_count": 433,
   "metadata": {},
   "outputs": [],
   "source": [
    "sm = SMOTE(random_state=12, kind='regular')\n",
    "X, y = sm.fit_sample(X, y)"
   ]
  },
  {
   "cell_type": "code",
   "execution_count": 412,
   "metadata": {},
   "outputs": [
    {
     "data": {
      "text/plain": [
       "array([ 1.000000e+00,  2.650000e+02,  0.000000e+00,  1.000000e+00,\n",
       "        2.000000e+00,  0.000000e+00,  1.180000e+02,  3.000000e+00,\n",
       "        0.000000e+00,  2.000000e+00,  1.000000e+00,  1.000000e+00,\n",
       "        1.000000e+01,  0.000000e+00,  7.000000e-01,  2.000000e+00,\n",
       "        2.200000e+01,  2.000000e+00,  2.000000e+00,  1.408000e+03,\n",
       "       -2.000000e-01,  4.140100e+04,  1.000000e+00,  3.000000e+00,\n",
       "        2.000000e+00,  3.000000e+00,  0.000000e+00,  2.300000e+01,\n",
       "        1.000000e+00,  3.000000e+00,  0.000000e+00,  0.000000e+00,\n",
       "        0.000000e+00,  0.000000e+00,  0.000000e+00,  0.000000e+00,\n",
       "        0.000000e+00,  0.000000e+00,  1.000000e+01,  0.000000e+00,\n",
       "        0.000000e+00,  0.000000e+00,  0.000000e+00,  8.919079e-01,\n",
       "        8.346149e-01,  0.000000e+00,  6.729947e-01,  9.052969e-01,\n",
       "        0.000000e+00,  0.000000e+00,  6.582632e-01,  8.416056e-01,\n",
       "        0.000000e+00,  0.000000e+00,  0.000000e+00,  0.000000e+00,\n",
       "        9.812687e-01,  0.000000e+00,  0.000000e+00,  1.900750e+02,\n",
       "        1.674621e+01,  2.430000e+02])"
      ]
     },
     "execution_count": 412,
     "metadata": {},
     "output_type": "execute_result"
    }
   ],
   "source": [
    "X[1,:]"
   ]
  },
  {
   "cell_type": "code",
   "execution_count": 434,
   "metadata": {},
   "outputs": [
    {
     "name": "stdout",
     "output_type": "stream",
     "text": [
      "(15735, 62) (15735,)\n",
      "Fold 0: accuracy = 56.5%, kappa = 0.6666  (no boundary adjustment)\n",
      "(15740, 62) (15740,)\n",
      "Fold 1: accuracy = 57.6%, kappa = 0.6894  (no boundary adjustment)\n",
      "(15740, 62) (15740,)\n",
      "Fold 2: accuracy = 57.1%, kappa = 0.6711  (no boundary adjustment)\n",
      "(15740, 62) (15740,)\n",
      "Fold 3: accuracy = 57.0%, kappa = 0.6814  (no boundary adjustment)\n"
     ]
    }
   ],
   "source": [
    "# Define what will be the final predicted train and test values\n",
    "train_meta = np.zeros(y.shape)\n",
    "test_meta = np.zeros(test_X.shape[0])\n",
    "\n",
    "#SMOTE over samplingg\n",
    "sm = SMOTE(random_state=12, kind='regular')\n",
    "\n",
    "# Choose and initialize a model.\n",
    "clf = XGBClassifier(max_depth=7,n_estimators=250,n_jobs=8)\n",
    "\n",
    "# Divide the training data into k-folds, k=4 here.\n",
    "splits = list(StratifiedKFold(n_splits=4, shuffle=True, random_state=1812).split(X, y))\n",
    "\n",
    "#splits = list(GroupKFold(n_splits=4).split(X, y, X['RescuerID']))\n",
    "\n",
    "# Loop over the folds and fit the model to the fold's training data.\n",
    "# Then evaluate that model on i) the validation data of that fold, \n",
    "# and ii) on all of the test data.\n",
    "for idx, (train_idx, valid_idx) in enumerate(splits):\n",
    "        # The training and validation sets for this fold\n",
    "#         X_train = X.iloc[train_idx]\n",
    "#         y_train = y[train_idx]\n",
    "#         X_val = X.iloc[valid_idx]\n",
    "#         y_val = y[valid_idx]\n",
    "        \n",
    "        X_train = X[train_idx]\n",
    "        y_train = y[train_idx]\n",
    "        X_val = X[valid_idx]\n",
    "        y_val = y[valid_idx]\n",
    "        \n",
    "        #x_train_res, y_train_res = sm.fit_sample(X_train, y_train)\n",
    "        #X_train,y_train = x_train_res,y_train_res\n",
    "        print(X_train.shape,y_train.shape)\n",
    "        \n",
    "        # Fit the model\n",
    "        clf.fit(X_train, y_train)\n",
    "        \n",
    "        # Look at the validation kappa and accuracy with classes right from the model\n",
    "        y_pred = clf.predict(X_val)\n",
    "        print(\"Fold {}: accuracy = {:.1f}%, kappa = {:.4f}  (no boundary adjustment)\".format(idx,\n",
    "                                100.0*accuracy_score(y_val, y_pred),     \n",
    "                                cohen_kappa_score(y_val, y_pred, weights='quadratic')))\n",
    "        #\n",
    "        # Assign real-valued classes in addition to the integer classes of y_pred.\n",
    "        # Start with the predicted probabilities by class\n",
    "        y_probs = clf.predict_proba(X_val)\n",
    "        # and get the class values (use a copy incase we change values)\n",
    "        class_vals = clf.classes_.copy()\n",
    "        # Change the ordinal weight of class 0 to be -1 as suggested by the plot in discussion:\n",
    "        # https://www.kaggle.com/c/petfinder-adoption-prediction/discussion/76265\n",
    "        # Does mot make much difference, though.\n",
    "        class_vals[0] = -1\n",
    "        # Create the float class values as the probability-weighted class\n",
    "        # Here a python \"list comprehension\" is used rather than a loop.\n",
    "        y_floats = [sum(y_probs[ix]*class_vals) for ix in range(len(y_probs[:,0]))]\n",
    "        #   \n",
    "        # Save these y_float values instead of the y_pred integers;\n",
    "        ##train_meta[valid_idx] = y_pred.reshape(-1)\n",
    "        train_meta[valid_idx] = y_floats\n",
    "        # the predictions for just this validation fold are saved in the train_meta array;\n",
    "        # looping over all folds will provide one prediction for each training sample.\n",
    "\n",
    "        # Now use this fold's same model to generate Test predictions.\n",
    "        ##y_test = clf.predict(test_X)\n",
    "        # Instead of integer classes, get the predicted probabilites\n",
    "        \n",
    "        test_probs = clf.predict_proba(test_X)\n",
    "        # and turn these into float class values.\n",
    "        # Unlike the validation case, we get a test prediction from every fold,\n",
    "        # so those float predictions are averaged. python list comprehension is used again.\n",
    "        ##test_meta += y_test.reshape(-1) / len(splits)\n",
    "        test_meta += np.array([sum(test_probs[ix]*class_vals) for\n",
    "                               ix in range(len(test_probs[:,0]))]) / len(splits)"
   ]
  },
  {
   "cell_type": "code",
   "execution_count": null,
   "metadata": {},
   "outputs": [],
   "source": [
    "#to beat this - depth 7\n",
    "# Fold 0: accuracy = 43.9%, kappa = 0.3997  (no boundary adjustment)\n",
    "# Fold 1: accuracy = 43.4%, kappa = 0.4013  (no boundary adjustment)\n",
    "# Fold 2: accuracy = 43.6%, kappa = 0.3733  (no boundary adjustment)\n",
    "# Fold 3: accuracy = 43.5%, kappa = 0.3724  (no boundary adjustment)\n",
    "\n",
    "#Without word count\n",
    "# Fold 0: accuracy = 44.7%, kappa = 0.4114  (no boundary adjustment)\n",
    "# Fold 1: accuracy = 43.8%, kappa = 0.4003  (no boundary adjustment)\n",
    "# Fold 2: accuracy = 43.0%, kappa = 0.3638  (no boundary adjustment)\n",
    "# Fold 3: accuracy = 43.3%, kappa = 0.3813  (no boundary adjustment)\n",
    "\n",
    "#Without word count and IsHealthy\n",
    "# Fold 0: accuracy = 44.1%, kappa = 0.3886  (no boundary adjustment)\n",
    "# Fold 1: accuracy = 43.4%, kappa = 0.3929  (no boundary adjustment)\n",
    "# Fold 2: accuracy = 43.5%, kappa = 0.3620  (no boundary adjustment)\n",
    "# Fold 3: accuracy = 43.8%, kappa = 0.3802  (no boundary adjustment)\n",
    "\n",
    "\n",
    "#With Tobel's colors features\n",
    "# Fold 0: accuracy = 43.3%, kappa = 0.3940  (no boundary adjustment)\n",
    "# Fold 1: accuracy = 43.2%, kappa = 0.3935  (no boundary adjustment)\n",
    "# Fold 2: accuracy = 43.8%, kappa = 0.3672  (no boundary adjustment)\n",
    "# Fold 3: accuracy = 44.0%, kappa = 0.3880  (no boundary adjustment)\n",
    "\n",
    "\n",
    "# Fold 0: accuracy = 41.8%, kappa = 0.3870  (no boundary adjustment)\n",
    "# Fold 1: accuracy = 42.7%, kappa = 0.3945  (no boundary adjustment)\n",
    "# Fold 2: accuracy = 42.8%, kappa = 0.3810  (no boundary adjustment)\n",
    "# Fold 3: accuracy = 41.1%, kappa = 0.3461  (no boundary adjustment)\n",
    "\n",
    "\n",
    "#Another 4.30\n",
    "# Fold 0: accuracy = 43.7%, kappa = 0.3984  (no boundary adjustment)\n",
    "# Fold 1: accuracy = 44.2%, kappa = 0.4047  (no boundary adjustment)\n",
    "# Fold 2: accuracy = 43.6%, kappa = 0.3642  (no boundary adjustment)\n",
    "# Fold 3: accuracy = 44.8%, kappa = 0.3919  (no boundary adjustment)\n",
    "\n",
    "Fold 0: accuracy = 44.4%, kappa = 0.4121  (no boundary adjustment)\n",
    "Fold 1: accuracy = 43.6%, kappa = 0.3967  (no boundary adjustment)\n",
    "Fold 2: accuracy = 42.9%, kappa = 0.3608  (no boundary adjustment)\n",
    "Fold 3: accuracy = 43.6%, kappa = 0.3826  (no boundary adjustment)\n",
    "    \n",
    "#n_est = 300 \n",
    "Fold 0: accuracy = 44.3%, kappa = 0.4134  (no boundary adjustment)\n",
    "Fold 1: accuracy = 43.8%, kappa = 0.4009  (no boundary adjustment)\n",
    "Fold 2: accuracy = 42.9%, kappa = 0.3681  (no boundary adjustment)\n",
    "Fold 3: accuracy = 44.0%, kappa = 0.3843  (no boundary adjustment)\n",
    "    \n",
    "Fold 0: accuracy = 45.2%, kappa = 0.4098  (no boundary adjustment)\n",
    "Fold 1: accuracy = 44.1%, kappa = 0.4019  (no boundary adjustment)\n",
    "Fold 2: accuracy = 43.9%, kappa = 0.3780  (no boundary adjustment)\n",
    "Fold 3: accuracy = 43.4%, kappa = 0.3674  (no boundary adjustment)\n",
    "    \n",
    "Fold 0: accuracy = 44.2%, kappa = 0.3984  (no boundary adjustment)\n",
    "Fold 1: accuracy = 44.5%, kappa = 0.3946  (no boundary adjustment)\n",
    "Fold 2: accuracy = 44.4%, kappa = 0.3750  (no boundary adjustment)\n",
    "Fold 3: accuracy = 44.4%, kappa = 0.3835  (no boundary adjustment)"
   ]
  },
  {
   "cell_type": "code",
   "execution_count": 7,
   "metadata": {},
   "outputs": [],
   "source": [
    "def get_class_bounds(y, y_pred, N=5, class0_fraction=-1):\n",
    "    \"\"\"\n",
    "    Find boundary values for y_pred to match the known y class percentiles.\n",
    "    Returns N-1 boundaries in y_pred values that separate y_pred\n",
    "    into N classes (0, 1, 2, ..., N-1) with same percentiles as y has.\n",
    "    Can adjust the fraction in Class 0 by the given factor (>=0), if desired. \n",
    "    \"\"\"\n",
    "    ysort = np.sort(y)\n",
    "    predsort = np.sort(y_pred)\n",
    "    bounds = []\n",
    "    for ibound in range(N-1):\n",
    "        iy = len(ysort[ysort <= ibound])\n",
    "        # adjust the number of class 0 predictions?\n",
    "        if (ibound == 0) and (class0_fraction >= 0.0) :\n",
    "            iy = int(class0_fraction * iy)\n",
    "        bounds.append(predsort[iy])\n",
    "    return bounds\n",
    "\n",
    "def assign_class(y_pred, boundaries):\n",
    "    \"\"\"\n",
    "    Given class boundaries in y_pred units, output integer class values\n",
    "    \"\"\"\n",
    "    y_classes = np.zeros(len(y_pred))\n",
    "    for iclass, bound in enumerate(boundaries):\n",
    "        y_classes[y_pred >= bound] = iclass + 1\n",
    "    return y_classes.astype(int)"
   ]
  },
  {
   "cell_type": "code",
   "execution_count": 436,
   "metadata": {},
   "outputs": [
    {
     "ename": "ValueError",
     "evalue": "Found input variables with inconsistent numbers of samples: [14993, 20985]",
     "output_type": "error",
     "traceback": [
      "\u001b[0;31m---------------------------------------------------------------------------\u001b[0m",
      "\u001b[0;31mValueError\u001b[0m                                Traceback (most recent call last)",
      "\u001b[0;32m<ipython-input-436-269a501cb38f>\u001b[0m in \u001b[0;36m<module>\u001b[0;34m\u001b[0m\n\u001b[1;32m     14\u001b[0m     \u001b[0mboundaries\u001b[0m \u001b[0;34m=\u001b[0m \u001b[0mget_class_bounds\u001b[0m\u001b[0;34m(\u001b[0m\u001b[0mtrain_y\u001b[0m\u001b[0;34m,\u001b[0m \u001b[0mtrain_meta\u001b[0m\u001b[0;34m,\u001b[0m \u001b[0mclass0_fraction\u001b[0m\u001b[0;34m=\u001b[0m\u001b[0mcl0frac\u001b[0m\u001b[0;34m)\u001b[0m\u001b[0;34m\u001b[0m\u001b[0;34m\u001b[0m\u001b[0m\n\u001b[1;32m     15\u001b[0m     \u001b[0mtrain_meta_ints\u001b[0m \u001b[0;34m=\u001b[0m \u001b[0massign_class\u001b[0m\u001b[0;34m(\u001b[0m\u001b[0mtrain_meta\u001b[0m\u001b[0;34m,\u001b[0m \u001b[0mboundaries\u001b[0m\u001b[0;34m)\u001b[0m\u001b[0;34m\u001b[0m\u001b[0;34m\u001b[0m\u001b[0m\n\u001b[0;32m---> 16\u001b[0;31m     \u001b[0mkappa\u001b[0m \u001b[0;34m=\u001b[0m \u001b[0mcohen_kappa_score\u001b[0m\u001b[0;34m(\u001b[0m\u001b[0mdf_train\u001b[0m\u001b[0;34m[\u001b[0m\u001b[0;34m'AdoptionSpeed'\u001b[0m\u001b[0;34m]\u001b[0m\u001b[0;34m,\u001b[0m \u001b[0mtrain_meta_ints\u001b[0m\u001b[0;34m,\u001b[0m \u001b[0mweights\u001b[0m\u001b[0;34m=\u001b[0m\u001b[0;34m'quadratic'\u001b[0m\u001b[0;34m)\u001b[0m\u001b[0;34m\u001b[0m\u001b[0;34m\u001b[0m\u001b[0m\n\u001b[0m\u001b[1;32m     17\u001b[0m     \u001b[0mkappas\u001b[0m\u001b[0;34m.\u001b[0m\u001b[0mappend\u001b[0m\u001b[0;34m(\u001b[0m\u001b[0mkappa\u001b[0m\u001b[0;34m)\u001b[0m\u001b[0;34m\u001b[0m\u001b[0;34m\u001b[0m\u001b[0m\n\u001b[1;32m     18\u001b[0m     \u001b[0mmse\u001b[0m \u001b[0;34m=\u001b[0m \u001b[0mmean_squared_error\u001b[0m\u001b[0;34m(\u001b[0m\u001b[0mdf_train\u001b[0m\u001b[0;34m[\u001b[0m\u001b[0;34m'AdoptionSpeed'\u001b[0m\u001b[0;34m]\u001b[0m\u001b[0;34m,\u001b[0m \u001b[0mtrain_meta_ints\u001b[0m\u001b[0;34m)\u001b[0m\u001b[0;34m\u001b[0m\u001b[0;34m\u001b[0m\u001b[0m\n",
      "\u001b[0;32m~/anaconda3/lib/python3.6/site-packages/sklearn/metrics/classification.py\u001b[0m in \u001b[0;36mcohen_kappa_score\u001b[0;34m(y1, y2, labels, weights, sample_weight)\u001b[0m\n\u001b[1;32m    352\u001b[0m     \"\"\"\n\u001b[1;32m    353\u001b[0m     confusion = confusion_matrix(y1, y2, labels=labels,\n\u001b[0;32m--> 354\u001b[0;31m                                  sample_weight=sample_weight)\n\u001b[0m\u001b[1;32m    355\u001b[0m     \u001b[0mn_classes\u001b[0m \u001b[0;34m=\u001b[0m \u001b[0mconfusion\u001b[0m\u001b[0;34m.\u001b[0m\u001b[0mshape\u001b[0m\u001b[0;34m[\u001b[0m\u001b[0;36m0\u001b[0m\u001b[0;34m]\u001b[0m\u001b[0;34m\u001b[0m\u001b[0;34m\u001b[0m\u001b[0m\n\u001b[1;32m    356\u001b[0m     \u001b[0msum0\u001b[0m \u001b[0;34m=\u001b[0m \u001b[0mnp\u001b[0m\u001b[0;34m.\u001b[0m\u001b[0msum\u001b[0m\u001b[0;34m(\u001b[0m\u001b[0mconfusion\u001b[0m\u001b[0;34m,\u001b[0m \u001b[0maxis\u001b[0m\u001b[0;34m=\u001b[0m\u001b[0;36m0\u001b[0m\u001b[0;34m)\u001b[0m\u001b[0;34m\u001b[0m\u001b[0;34m\u001b[0m\u001b[0m\n",
      "\u001b[0;32m~/anaconda3/lib/python3.6/site-packages/sklearn/metrics/classification.py\u001b[0m in \u001b[0;36mconfusion_matrix\u001b[0;34m(y_true, y_pred, labels, sample_weight)\u001b[0m\n\u001b[1;32m    251\u001b[0m \u001b[0;34m\u001b[0m\u001b[0m\n\u001b[1;32m    252\u001b[0m     \"\"\"\n\u001b[0;32m--> 253\u001b[0;31m     \u001b[0my_type\u001b[0m\u001b[0;34m,\u001b[0m \u001b[0my_true\u001b[0m\u001b[0;34m,\u001b[0m \u001b[0my_pred\u001b[0m \u001b[0;34m=\u001b[0m \u001b[0m_check_targets\u001b[0m\u001b[0;34m(\u001b[0m\u001b[0my_true\u001b[0m\u001b[0;34m,\u001b[0m \u001b[0my_pred\u001b[0m\u001b[0;34m)\u001b[0m\u001b[0;34m\u001b[0m\u001b[0;34m\u001b[0m\u001b[0m\n\u001b[0m\u001b[1;32m    254\u001b[0m     \u001b[0;32mif\u001b[0m \u001b[0my_type\u001b[0m \u001b[0;32mnot\u001b[0m \u001b[0;32min\u001b[0m \u001b[0;34m(\u001b[0m\u001b[0;34m\"binary\"\u001b[0m\u001b[0;34m,\u001b[0m \u001b[0;34m\"multiclass\"\u001b[0m\u001b[0;34m)\u001b[0m\u001b[0;34m:\u001b[0m\u001b[0;34m\u001b[0m\u001b[0;34m\u001b[0m\u001b[0m\n\u001b[1;32m    255\u001b[0m         \u001b[0;32mraise\u001b[0m \u001b[0mValueError\u001b[0m\u001b[0;34m(\u001b[0m\u001b[0;34m\"%s is not supported\"\u001b[0m \u001b[0;34m%\u001b[0m \u001b[0my_type\u001b[0m\u001b[0;34m)\u001b[0m\u001b[0;34m\u001b[0m\u001b[0;34m\u001b[0m\u001b[0m\n",
      "\u001b[0;32m~/anaconda3/lib/python3.6/site-packages/sklearn/metrics/classification.py\u001b[0m in \u001b[0;36m_check_targets\u001b[0;34m(y_true, y_pred)\u001b[0m\n\u001b[1;32m     69\u001b[0m     \u001b[0my_pred\u001b[0m \u001b[0;34m:\u001b[0m \u001b[0marray\u001b[0m \u001b[0;32mor\u001b[0m \u001b[0mindicator\u001b[0m \u001b[0mmatrix\u001b[0m\u001b[0;34m\u001b[0m\u001b[0;34m\u001b[0m\u001b[0m\n\u001b[1;32m     70\u001b[0m     \"\"\"\n\u001b[0;32m---> 71\u001b[0;31m     \u001b[0mcheck_consistent_length\u001b[0m\u001b[0;34m(\u001b[0m\u001b[0my_true\u001b[0m\u001b[0;34m,\u001b[0m \u001b[0my_pred\u001b[0m\u001b[0;34m)\u001b[0m\u001b[0;34m\u001b[0m\u001b[0;34m\u001b[0m\u001b[0m\n\u001b[0m\u001b[1;32m     72\u001b[0m     \u001b[0mtype_true\u001b[0m \u001b[0;34m=\u001b[0m \u001b[0mtype_of_target\u001b[0m\u001b[0;34m(\u001b[0m\u001b[0my_true\u001b[0m\u001b[0;34m)\u001b[0m\u001b[0;34m\u001b[0m\u001b[0;34m\u001b[0m\u001b[0m\n\u001b[1;32m     73\u001b[0m     \u001b[0mtype_pred\u001b[0m \u001b[0;34m=\u001b[0m \u001b[0mtype_of_target\u001b[0m\u001b[0;34m(\u001b[0m\u001b[0my_pred\u001b[0m\u001b[0;34m)\u001b[0m\u001b[0;34m\u001b[0m\u001b[0;34m\u001b[0m\u001b[0m\n",
      "\u001b[0;32m~/anaconda3/lib/python3.6/site-packages/sklearn/utils/validation.py\u001b[0m in \u001b[0;36mcheck_consistent_length\u001b[0;34m(*arrays)\u001b[0m\n\u001b[1;32m    233\u001b[0m     \u001b[0;32mif\u001b[0m \u001b[0mlen\u001b[0m\u001b[0;34m(\u001b[0m\u001b[0muniques\u001b[0m\u001b[0;34m)\u001b[0m \u001b[0;34m>\u001b[0m \u001b[0;36m1\u001b[0m\u001b[0;34m:\u001b[0m\u001b[0;34m\u001b[0m\u001b[0;34m\u001b[0m\u001b[0m\n\u001b[1;32m    234\u001b[0m         raise ValueError(\"Found input variables with inconsistent numbers of\"\n\u001b[0;32m--> 235\u001b[0;31m                          \" samples: %r\" % [int(l) for l in lengths])\n\u001b[0m\u001b[1;32m    236\u001b[0m \u001b[0;34m\u001b[0m\u001b[0m\n\u001b[1;32m    237\u001b[0m \u001b[0;34m\u001b[0m\u001b[0m\n",
      "\u001b[0;31mValueError\u001b[0m: Found input variables with inconsistent numbers of samples: [14993, 20985]"
     ]
    }
   ],
   "source": [
    "# This cell calculates and plots the kappa (and MSE) vs the class0 fraction adjustment.\n",
    "# Note that MSE prefers (lower MSE) a class0 fraction near/at 0,\n",
    "# whereas kappa prefers (higher kappa) a fraction near 1.\n",
    "# Then the class0 fraction that gives best training kappa is selected.\n",
    "train_y = y\n",
    "df_train = train_copy_df\n",
    "# Save values of kappa, MSE, and accuracy vs the class0 fraction\n",
    "kappas = []\n",
    "mses = []\n",
    "accurs = []\n",
    "# fractions to try... (could go larger than 1 if desired.)\n",
    "cl0fracs = np.array(np.arange(0.01,1.001,0.01))\n",
    "for cl0frac in cl0fracs:\n",
    "    boundaries = get_class_bounds(train_y, train_meta, class0_fraction=cl0frac)\n",
    "    train_meta_ints = assign_class(train_meta, boundaries)\n",
    "    kappa = cohen_kappa_score(df_train['AdoptionSpeed'], train_meta_ints, weights='quadratic')\n",
    "    kappas.append(kappa)\n",
    "    mse = mean_squared_error(df_train['AdoptionSpeed'], train_meta_ints)\n",
    "    mses.append(mse)\n",
    "    accur = accuracy_score(df_train['AdoptionSpeed'], train_meta_ints)\n",
    "    accurs.append(accur)\n",
    "    \n",
    "# Use the class0 fraction that gives the highest training kappa\n",
    "ifmax = np.array(kappas).argmax()\n",
    "cl0frac = cl0fracs[ifmax]\n",
    "\n",
    "print(\"Best kappa for class0 fraction = {:.4f}\".format(cl0frac))"
   ]
  },
  {
   "cell_type": "code",
   "execution_count": 438,
   "metadata": {},
   "outputs": [
    {
     "name": "stdout",
     "output_type": "stream",
     "text": [
      "Using class0_fraction = 1.0000, gives boundaries:\n",
      "[0.6167782545089722, 1.9673608876764774, 2.3862420972436666, 2.869417741894722]\n",
      "Adjusted boundaries give:\n",
      "kappa = 0.7117  (with accuracy = 53.0%)\n"
     ]
    }
   ],
   "source": [
    "# Can skip the class0_fraction adjustment and plotting cells above;\n",
    "# can delete those two cells and just uncomment this line:\n",
    "cl0frac = 1.0\n",
    "\n",
    "print(\"Using class0_fraction = {:.4f}, gives boundaries:\".format(cl0frac))\n",
    "boundaries = get_class_bounds(train_y, train_meta, class0_fraction=cl0frac)\n",
    "print(boundaries)\n",
    "\n",
    "train_meta_ints = assign_class(train_meta, boundaries)\n",
    "kappa = cohen_kappa_score(train_y, train_meta_ints, weights='quadratic')\n",
    "\n",
    "print(\"Adjusted boundaries give:\")\n",
    "print(\"kappa = {:.4f}  (with accuracy = {:.1f}%)\".format(kappa,\n",
    "                                100.0*accuracy_score(train_y, train_meta_ints)))"
   ]
  },
  {
   "cell_type": "code",
   "execution_count": 439,
   "metadata": {},
   "outputs": [
    {
     "name": "stdout",
     "output_type": "stream",
     "text": [
      "\n",
      "Confusion matrix - Columns are prediced 0, predicted 1, etc.\n",
      "\n",
      "[[3770  242   82   59   44]\n",
      " [ 259 1982 1062  590  304]\n",
      " [  31 1003 1427 1082  654]\n",
      " [ 135  750 1102 1474  736]\n",
      " [   2  220  524  992 2459]]\n",
      "\n",
      "\n",
      "52.95% = 11112/20985 are on the diagonal (= accuracy)\n"
     ]
    }
   ],
   "source": [
    "# Confusion Matrix\n",
    "con_mat = confusion_matrix(train_y, train_meta_ints)\n",
    "\n",
    "# Look at the number that are on the diagonal (exact agreement)\n",
    "diag = 0.0\n",
    "for id in range(5):\n",
    "    diag += con_mat[id,id]\n",
    "print(\"\\nConfusion matrix - Columns are prediced 0, predicted 1, etc.\\n\")\n",
    "print(con_mat)\n",
    "print(\"\")\n",
    "print(\"\\n{2:.2f}% = {0}/{1} are on the diagonal (= accuracy)\".format(\n",
    "        int(diag), con_mat.sum(), 100.0*diag/con_mat.sum()))"
   ]
  },
  {
   "cell_type": "code",
   "execution_count": 440,
   "metadata": {},
   "outputs": [
    {
     "data": {
      "text/html": [
       "<div>\n",
       "<style scoped>\n",
       "    .dataframe tbody tr th:only-of-type {\n",
       "        vertical-align: middle;\n",
       "    }\n",
       "\n",
       "    .dataframe tbody tr th {\n",
       "        vertical-align: top;\n",
       "    }\n",
       "\n",
       "    .dataframe thead th {\n",
       "        text-align: right;\n",
       "    }\n",
       "</style>\n",
       "<table border=\"1\" class=\"dataframe\">\n",
       "  <thead>\n",
       "    <tr style=\"text-align: right;\">\n",
       "      <th></th>\n",
       "      <th>PetID</th>\n",
       "      <th>AdoptionSpeed</th>\n",
       "    </tr>\n",
       "  </thead>\n",
       "  <tbody>\n",
       "    <tr>\n",
       "      <th>0</th>\n",
       "      <td>378fcc4fc</td>\n",
       "      <td>1</td>\n",
       "    </tr>\n",
       "    <tr>\n",
       "      <th>1</th>\n",
       "      <td>73c10e136</td>\n",
       "      <td>4</td>\n",
       "    </tr>\n",
       "    <tr>\n",
       "      <th>2</th>\n",
       "      <td>72000c4c5</td>\n",
       "      <td>4</td>\n",
       "    </tr>\n",
       "    <tr>\n",
       "      <th>3</th>\n",
       "      <td>e147a4b9f</td>\n",
       "      <td>4</td>\n",
       "    </tr>\n",
       "    <tr>\n",
       "      <th>4</th>\n",
       "      <td>43fbba852</td>\n",
       "      <td>4</td>\n",
       "    </tr>\n",
       "    <tr>\n",
       "      <th>5</th>\n",
       "      <td>77a490ec9</td>\n",
       "      <td>4</td>\n",
       "    </tr>\n",
       "    <tr>\n",
       "      <th>6</th>\n",
       "      <td>28c4b1b13</td>\n",
       "      <td>4</td>\n",
       "    </tr>\n",
       "    <tr>\n",
       "      <th>7</th>\n",
       "      <td>d1eada628</td>\n",
       "      <td>3</td>\n",
       "    </tr>\n",
       "    <tr>\n",
       "      <th>8</th>\n",
       "      <td>d134dec34</td>\n",
       "      <td>4</td>\n",
       "    </tr>\n",
       "    <tr>\n",
       "      <th>9</th>\n",
       "      <td>bcd464bb8</td>\n",
       "      <td>1</td>\n",
       "    </tr>\n",
       "    <tr>\n",
       "      <th>10</th>\n",
       "      <td>4e21958c3</td>\n",
       "      <td>4</td>\n",
       "    </tr>\n",
       "    <tr>\n",
       "      <th>11</th>\n",
       "      <td>7b070aed6</td>\n",
       "      <td>3</td>\n",
       "    </tr>\n",
       "    <tr>\n",
       "      <th>12</th>\n",
       "      <td>ff8d0708f</td>\n",
       "      <td>4</td>\n",
       "    </tr>\n",
       "    <tr>\n",
       "      <th>13</th>\n",
       "      <td>f1e6c9bf3</td>\n",
       "      <td>2</td>\n",
       "    </tr>\n",
       "    <tr>\n",
       "      <th>14</th>\n",
       "      <td>248914c05</td>\n",
       "      <td>4</td>\n",
       "    </tr>\n",
       "    <tr>\n",
       "      <th>15</th>\n",
       "      <td>948002885</td>\n",
       "      <td>4</td>\n",
       "    </tr>\n",
       "    <tr>\n",
       "      <th>16</th>\n",
       "      <td>111e67cd2</td>\n",
       "      <td>3</td>\n",
       "    </tr>\n",
       "    <tr>\n",
       "      <th>17</th>\n",
       "      <td>4f4b2ede1</td>\n",
       "      <td>4</td>\n",
       "    </tr>\n",
       "    <tr>\n",
       "      <th>18</th>\n",
       "      <td>d77fca061</td>\n",
       "      <td>2</td>\n",
       "    </tr>\n",
       "    <tr>\n",
       "      <th>19</th>\n",
       "      <td>ac9fb74b9</td>\n",
       "      <td>4</td>\n",
       "    </tr>\n",
       "    <tr>\n",
       "      <th>20</th>\n",
       "      <td>47ef39e7a</td>\n",
       "      <td>2</td>\n",
       "    </tr>\n",
       "    <tr>\n",
       "      <th>21</th>\n",
       "      <td>c69ee9807</td>\n",
       "      <td>3</td>\n",
       "    </tr>\n",
       "    <tr>\n",
       "      <th>22</th>\n",
       "      <td>62dcf8ecb</td>\n",
       "      <td>4</td>\n",
       "    </tr>\n",
       "    <tr>\n",
       "      <th>23</th>\n",
       "      <td>4df1d19d6</td>\n",
       "      <td>4</td>\n",
       "    </tr>\n",
       "    <tr>\n",
       "      <th>24</th>\n",
       "      <td>e8ef8455e</td>\n",
       "      <td>3</td>\n",
       "    </tr>\n",
       "    <tr>\n",
       "      <th>25</th>\n",
       "      <td>cbd23bc17</td>\n",
       "      <td>2</td>\n",
       "    </tr>\n",
       "    <tr>\n",
       "      <th>26</th>\n",
       "      <td>4d1a91ccf</td>\n",
       "      <td>2</td>\n",
       "    </tr>\n",
       "    <tr>\n",
       "      <th>27</th>\n",
       "      <td>004ee5cf7</td>\n",
       "      <td>4</td>\n",
       "    </tr>\n",
       "    <tr>\n",
       "      <th>28</th>\n",
       "      <td>95fad0a75</td>\n",
       "      <td>3</td>\n",
       "    </tr>\n",
       "    <tr>\n",
       "      <th>29</th>\n",
       "      <td>64341b5db</td>\n",
       "      <td>4</td>\n",
       "    </tr>\n",
       "    <tr>\n",
       "      <th>30</th>\n",
       "      <td>36726d4ef</td>\n",
       "      <td>4</td>\n",
       "    </tr>\n",
       "    <tr>\n",
       "      <th>31</th>\n",
       "      <td>0b56a7525</td>\n",
       "      <td>4</td>\n",
       "    </tr>\n",
       "    <tr>\n",
       "      <th>32</th>\n",
       "      <td>7f819d0db</td>\n",
       "      <td>3</td>\n",
       "    </tr>\n",
       "    <tr>\n",
       "      <th>33</th>\n",
       "      <td>550a0368b</td>\n",
       "      <td>3</td>\n",
       "    </tr>\n",
       "    <tr>\n",
       "      <th>34</th>\n",
       "      <td>9f60fc089</td>\n",
       "      <td>4</td>\n",
       "    </tr>\n",
       "    <tr>\n",
       "      <th>35</th>\n",
       "      <td>92ad0b5d6</td>\n",
       "      <td>4</td>\n",
       "    </tr>\n",
       "    <tr>\n",
       "      <th>36</th>\n",
       "      <td>a0465636d</td>\n",
       "      <td>4</td>\n",
       "    </tr>\n",
       "    <tr>\n",
       "      <th>37</th>\n",
       "      <td>257e363e0</td>\n",
       "      <td>3</td>\n",
       "    </tr>\n",
       "    <tr>\n",
       "      <th>38</th>\n",
       "      <td>ead84ae08</td>\n",
       "      <td>2</td>\n",
       "    </tr>\n",
       "    <tr>\n",
       "      <th>39</th>\n",
       "      <td>e3b8f72db</td>\n",
       "      <td>4</td>\n",
       "    </tr>\n",
       "  </tbody>\n",
       "</table>\n",
       "</div>"
      ],
      "text/plain": [
       "        PetID  AdoptionSpeed\n",
       "0   378fcc4fc              1\n",
       "1   73c10e136              4\n",
       "2   72000c4c5              4\n",
       "3   e147a4b9f              4\n",
       "4   43fbba852              4\n",
       "5   77a490ec9              4\n",
       "6   28c4b1b13              4\n",
       "7   d1eada628              3\n",
       "8   d134dec34              4\n",
       "9   bcd464bb8              1\n",
       "10  4e21958c3              4\n",
       "11  7b070aed6              3\n",
       "12  ff8d0708f              4\n",
       "13  f1e6c9bf3              2\n",
       "14  248914c05              4\n",
       "15  948002885              4\n",
       "16  111e67cd2              3\n",
       "17  4f4b2ede1              4\n",
       "18  d77fca061              2\n",
       "19  ac9fb74b9              4\n",
       "20  47ef39e7a              2\n",
       "21  c69ee9807              3\n",
       "22  62dcf8ecb              4\n",
       "23  4df1d19d6              4\n",
       "24  e8ef8455e              3\n",
       "25  cbd23bc17              2\n",
       "26  4d1a91ccf              2\n",
       "27  004ee5cf7              4\n",
       "28  95fad0a75              3\n",
       "29  64341b5db              4\n",
       "30  36726d4ef              4\n",
       "31  0b56a7525              4\n",
       "32  7f819d0db              3\n",
       "33  550a0368b              3\n",
       "34  9f60fc089              4\n",
       "35  92ad0b5d6              4\n",
       "36  a0465636d              4\n",
       "37  257e363e0              3\n",
       "38  ead84ae08              2\n",
       "39  e3b8f72db              4"
      ]
     },
     "execution_count": 440,
     "metadata": {},
     "output_type": "execute_result"
    }
   ],
   "source": [
    "test_meta_ints = assign_class(test_meta, boundaries)\n",
    "PetID = test_copy_df['PetID']\n",
    "testAdoptionSpeed = pd.Series(data=test_meta_ints, name=\"AdoptionSpeed\")\n",
    "# Preparing data for Submission\n",
    "Submission = pd.concat([PetID,testAdoptionSpeed],axis=1)\n",
    "Submission.head(40)"
   ]
  },
  {
   "cell_type": "code",
   "execution_count": 425,
   "metadata": {},
   "outputs": [
    {
     "data": {
      "text/plain": [
       "(3948, 2)"
      ]
     },
     "execution_count": 425,
     "metadata": {},
     "output_type": "execute_result"
    }
   ],
   "source": [
    "Submission.shape"
   ]
  },
  {
   "cell_type": "code",
   "execution_count": 441,
   "metadata": {},
   "outputs": [],
   "source": [
    "Submission.to_csv(\"Submission23.csv\", index=False)\n",
    "\n",
    "#submission 9 is with depth 10\n",
    "#submission 10 is depth 7"
   ]
  },
  {
   "cell_type": "code",
   "execution_count": 374,
   "metadata": {},
   "outputs": [
    {
     "data": {
      "image/png": "[encoded data removed]",
      "text/plain": [
       "<Figure size 864x1440 with 1 Axes>"
      ]
     },
     "metadata": {
      "needs_background": "light"
     },
     "output_type": "display_data"
    }
   ],
   "source": [
    "features = X.columns\n",
    "importances = clf.feature_importances_\n",
    "indices = np.argsort(importances)\n",
    "\n",
    "plt.figure(figsize=(12,20))\n",
    "plt.barh(range(len(indices)), importances[indices], align='center')\n",
    "plt.yticks(range(len(indices)), [features[i] for i in indices]);\n",
    "plt.xlabel('Relative Importance')\n",
    "plt.show()"
   ]
  },
  {
   "cell_type": "code",
   "execution_count": null,
   "metadata": {},
   "outputs": [],
   "source": []
  }
 ],
 "metadata": {
  "kernelspec": {
   "display_name": "Python 3",
   "language": "python",
   "name": "python3"
  },
  "language_info": {
   "codemirror_mode": {
    "name": "ipython",
    "version": 3
   },
   "file_extension": ".py",
   "mimetype": "text/x-python",
   "name": "python",
   "nbconvert_exporter": "python",
   "pygments_lexer": "ipython3",
   "version": "3.6.7"
  },
  "toc": {
   "base_numbering": 1,
   "nav_menu": {},
   "number_sections": true,
   "sideBar": true,
   "skip_h1_title": false,
   "title_cell": "Table of Contents",
   "title_sidebar": "Contents",
   "toc_cell": false,
   "toc_position": {},
   "toc_section_display": true,
   "toc_window_display": false
  }
 },
 "nbformat": 4,
 "nbformat_minor": 2
}
